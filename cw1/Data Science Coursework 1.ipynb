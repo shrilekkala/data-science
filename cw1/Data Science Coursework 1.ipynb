{
 "cells": [
  {
   "cell_type": "markdown",
   "id": "popular-invention",
   "metadata": {},
   "source": [
    "# Data Science: Coursework 1\n",
    "\n",
    "### Shri Lekkala\n",
    "### CID: 01499487"
   ]
  },
  {
   "cell_type": "code",
   "execution_count": 1,
   "id": "amazing-windows",
   "metadata": {},
   "outputs": [],
   "source": [
    "# Import modules used throughout the coursework\n",
    "import numpy as np\n",
    "import pandas as pd\n",
    "import matplotlib.pyplot as plt\n",
    "import seaborn as sns\n",
    "from collections import Counter\n",
    "\n",
    "np.random.seed(1024)"
   ]
  },
  {
   "cell_type": "markdown",
   "id": "comparable-customer",
   "metadata": {},
   "source": [
    "## Task 1: Regression\n",
    "***"
   ]
  },
  {
   "cell_type": "markdown",
   "id": "republican-psychiatry",
   "metadata": {},
   "source": [
    "### 1.1 Linear Regression\n",
    "***\n",
    "\n",
    "#### Question 1.1.1\n",
    "***"
   ]
  },
  {
   "cell_type": "markdown",
   "id": "fresh-angola",
   "metadata": {},
   "source": [
    "First the training and the test data are imported"
   ]
  },
  {
   "cell_type": "code",
   "execution_count": 2,
   "id": "floating-interface",
   "metadata": {},
   "outputs": [],
   "source": [
    "# import training and test sets\n",
    "test_data = pd.read_csv('./regression_test.csv', header=None)\n",
    "train_data = pd.read_csv('./regression_train.csv', header=None)"
   ]
  },
  {
   "cell_type": "markdown",
   "id": "aquatic-mobility",
   "metadata": {},
   "source": [
    "We can check the structure of the dataset as below:"
   ]
  },
  {
   "cell_type": "code",
   "execution_count": 3,
   "id": "saved-touch",
   "metadata": {},
   "outputs": [
    {
     "data": {
      "text/html": [
       "<div>\n",
       "<style scoped>\n",
       "    .dataframe tbody tr th:only-of-type {\n",
       "        vertical-align: middle;\n",
       "    }\n",
       "\n",
       "    .dataframe tbody tr th {\n",
       "        vertical-align: top;\n",
       "    }\n",
       "\n",
       "    .dataframe thead th {\n",
       "        text-align: right;\n",
       "    }\n",
       "</style>\n",
       "<table border=\"1\" class=\"dataframe\">\n",
       "  <thead>\n",
       "    <tr style=\"text-align: right;\">\n",
       "      <th></th>\n",
       "      <th>0</th>\n",
       "      <th>1</th>\n",
       "      <th>2</th>\n",
       "      <th>3</th>\n",
       "      <th>4</th>\n",
       "      <th>5</th>\n",
       "      <th>6</th>\n",
       "      <th>7</th>\n",
       "      <th>8</th>\n",
       "      <th>9</th>\n",
       "      <th>10</th>\n",
       "      <th>11</th>\n",
       "      <th>12</th>\n",
       "      <th>13</th>\n",
       "      <th>14</th>\n",
       "      <th>15</th>\n",
       "      <th>16</th>\n",
       "      <th>17</th>\n",
       "      <th>18</th>\n",
       "    </tr>\n",
       "  </thead>\n",
       "  <tbody>\n",
       "    <tr>\n",
       "      <th>0</th>\n",
       "      <td>1.0</td>\n",
       "      <td>-0.413447</td>\n",
       "      <td>-0.487722</td>\n",
       "      <td>0.115738</td>\n",
       "      <td>0.115735</td>\n",
       "      <td>0.158124</td>\n",
       "      <td>0.984960</td>\n",
       "      <td>0.797449</td>\n",
       "      <td>-0.773684</td>\n",
       "      <td>0.985161</td>\n",
       "      <td>-0.803212</td>\n",
       "      <td>1.176466</td>\n",
       "      <td>0.441052</td>\n",
       "      <td>-0.983048</td>\n",
       "      <td>0.158124</td>\n",
       "      <td>1.176469</td>\n",
       "      <td>-0.487723</td>\n",
       "      <td>-0.773598</td>\n",
       "      <td>23.9</td>\n",
       "    </tr>\n",
       "    <tr>\n",
       "      <th>1</th>\n",
       "      <td>1.0</td>\n",
       "      <td>-0.412788</td>\n",
       "      <td>-0.487722</td>\n",
       "      <td>-1.034027</td>\n",
       "      <td>-1.034035</td>\n",
       "      <td>-0.386091</td>\n",
       "      <td>0.819700</td>\n",
       "      <td>0.207144</td>\n",
       "      <td>-0.418203</td>\n",
       "      <td>0.819617</td>\n",
       "      <td>-0.666608</td>\n",
       "      <td>-0.857929</td>\n",
       "      <td>0.379323</td>\n",
       "      <td>-0.803625</td>\n",
       "      <td>-0.386091</td>\n",
       "      <td>-0.857939</td>\n",
       "      <td>-0.487723</td>\n",
       "      <td>-0.418305</td>\n",
       "      <td>29.9</td>\n",
       "    </tr>\n",
       "    <tr>\n",
       "      <th>2</th>\n",
       "      <td>1.0</td>\n",
       "      <td>-0.387983</td>\n",
       "      <td>-0.487722</td>\n",
       "      <td>-0.211099</td>\n",
       "      <td>-0.211084</td>\n",
       "      <td>0.261784</td>\n",
       "      <td>-0.510932</td>\n",
       "      <td>-0.923682</td>\n",
       "      <td>-0.671859</td>\n",
       "      <td>-0.511320</td>\n",
       "      <td>-0.102376</td>\n",
       "      <td>0.344213</td>\n",
       "      <td>0.441052</td>\n",
       "      <td>0.131334</td>\n",
       "      <td>0.261784</td>\n",
       "      <td>0.344218</td>\n",
       "      <td>-0.487727</td>\n",
       "      <td>-0.671863</td>\n",
       "      <td>24.5</td>\n",
       "    </tr>\n",
       "    <tr>\n",
       "      <th>3</th>\n",
       "      <td>1.0</td>\n",
       "      <td>-0.347952</td>\n",
       "      <td>-0.487722</td>\n",
       "      <td>-0.720322</td>\n",
       "      <td>-0.720323</td>\n",
       "      <td>-0.412006</td>\n",
       "      <td>0.846768</td>\n",
       "      <td>0.324494</td>\n",
       "      <td>-0.248591</td>\n",
       "      <td>0.846699</td>\n",
       "      <td>-0.601276</td>\n",
       "      <td>-0.488039</td>\n",
       "      <td>0.369674</td>\n",
       "      <td>-0.381702</td>\n",
       "      <td>-0.412006</td>\n",
       "      <td>-0.488023</td>\n",
       "      <td>-0.487722</td>\n",
       "      <td>-0.248524</td>\n",
       "      <td>27.5</td>\n",
       "    </tr>\n",
       "    <tr>\n",
       "      <th>4</th>\n",
       "      <td>1.0</td>\n",
       "      <td>-0.330562</td>\n",
       "      <td>-0.487722</td>\n",
       "      <td>-0.437258</td>\n",
       "      <td>-0.437249</td>\n",
       "      <td>-0.144217</td>\n",
       "      <td>0.299699</td>\n",
       "      <td>0.918355</td>\n",
       "      <td>0.313581</td>\n",
       "      <td>0.299802</td>\n",
       "      <td>-0.601276</td>\n",
       "      <td>1.176466</td>\n",
       "      <td>0.342811</td>\n",
       "      <td>0.020597</td>\n",
       "      <td>-0.144217</td>\n",
       "      <td>1.176460</td>\n",
       "      <td>-0.487724</td>\n",
       "      <td>0.313542</td>\n",
       "      <td>18.4</td>\n",
       "    </tr>\n",
       "  </tbody>\n",
       "</table>\n",
       "</div>"
      ],
      "text/plain": [
       "    0         1         2         3         4         5         6         7   \\\n",
       "0  1.0 -0.413447 -0.487722  0.115738  0.115735  0.158124  0.984960  0.797449   \n",
       "1  1.0 -0.412788 -0.487722 -1.034027 -1.034035 -0.386091  0.819700  0.207144   \n",
       "2  1.0 -0.387983 -0.487722 -0.211099 -0.211084  0.261784 -0.510932 -0.923682   \n",
       "3  1.0 -0.347952 -0.487722 -0.720322 -0.720323 -0.412006  0.846768  0.324494   \n",
       "4  1.0 -0.330562 -0.487722 -0.437258 -0.437249 -0.144217  0.299699  0.918355   \n",
       "\n",
       "         8         9         10        11        12        13        14  \\\n",
       "0 -0.773684  0.985161 -0.803212  1.176466  0.441052 -0.983048  0.158124   \n",
       "1 -0.418203  0.819617 -0.666608 -0.857929  0.379323 -0.803625 -0.386091   \n",
       "2 -0.671859 -0.511320 -0.102376  0.344213  0.441052  0.131334  0.261784   \n",
       "3 -0.248591  0.846699 -0.601276 -0.488039  0.369674 -0.381702 -0.412006   \n",
       "4  0.313581  0.299802 -0.601276  1.176466  0.342811  0.020597 -0.144217   \n",
       "\n",
       "         15        16        17    18  \n",
       "0  1.176469 -0.487723 -0.773598  23.9  \n",
       "1 -0.857939 -0.487723 -0.418305  29.9  \n",
       "2  0.344218 -0.487727 -0.671863  24.5  \n",
       "3 -0.488023 -0.487722 -0.248524  27.5  \n",
       "4  1.176460 -0.487724  0.313542  18.4  "
      ]
     },
     "execution_count": 3,
     "metadata": {},
     "output_type": "execute_result"
    }
   ],
   "source": [
    "train_data.head()"
   ]
  },
  {
   "cell_type": "markdown",
   "id": "first-indiana",
   "metadata": {},
   "source": [
    "Firstly we note that there is already a column of ones for the intercept term in linear regression."
   ]
  },
  {
   "cell_type": "markdown",
   "id": "mature-detroit",
   "metadata": {},
   "source": [
    "Usually, we make a decision on whether and how to standardise the data here.\n",
    "However by checking the full data (both training and test together), we see that it is already standardised:"
   ]
  },
  {
   "cell_type": "code",
   "execution_count": 4,
   "id": "greek-bookmark",
   "metadata": {},
   "outputs": [
    {
     "name": "stdout",
     "output_type": "stream",
     "text": [
      "[ 1. -0.  0. -0.  0.  0. -0. -0.  0. -0. -0. -0.  0. -0.  0. -0. -0.  0.]\n",
      "[0. 1. 1. 1. 1. 1. 1. 1. 1. 1. 1. 1. 1. 1. 1. 1. 1. 1.]\n"
     ]
    }
   ],
   "source": [
    "# NB our data is already standardised\n",
    "full_data = pd.concat([test_data, train_data])\n",
    "full_X = np.array(full_data.iloc[:,:-1])\n",
    "print(np.mean(full_X, 0).round(decimals=3))\n",
    "print(np.std(full_X, 0))"
   ]
  },
  {
   "cell_type": "markdown",
   "id": "demonstrated-session",
   "metadata": {},
   "source": [
    "Thus, except in the case where the column is all ones, the mean of each column is 0 and the standard deviation is 1."
   ]
  },
  {
   "cell_type": "markdown",
   "id": "recreational-parallel",
   "metadata": {},
   "source": [
    "Next we separate the data sets in terms of the X and the Y datasets:"
   ]
  },
  {
   "cell_type": "code",
   "execution_count": 5,
   "id": "fundamental-rwanda",
   "metadata": {},
   "outputs": [],
   "source": [
    "X_train = np.array(train_data.iloc[:,:-1])\n",
    "Y_train = np.array(train_data.iloc()[:,-1])\n",
    "\n",
    "X_test = np.array(test_data.iloc[:,:-1])\n",
    "Y_test = np.array(test_data.iloc()[:,-1])"
   ]
  },
  {
   "cell_type": "markdown",
   "id": "treated-canadian",
   "metadata": {},
   "source": [
    "As we have explored maximum likelihood estimation in lectures, I will apply the same method for this regression problem.\n",
    "\n",
    "In particular we wish to obtain the parameters  $\\boldsymbol\\beta^{\\mathrm{ML}}$ that maximize the likelihood\n",
    "$$\n",
    "p(\\mathcal Y | \\mathcal X, \\boldsymbol\\beta) = \\prod_{n=1}^N p(y_n | \\boldsymbol x_n, \\boldsymbol\\beta)\\,.\n",
    "$$\n",
    "\n",
    "And once we have that we can can compute the maximum likelihood estimate using the formula:\n",
    "$$\n",
    "\\boldsymbol\\beta^{\\text{ML}} = (\\boldsymbol X^T\\boldsymbol X)^{-1}\\boldsymbol X^T\\boldsymbol y \\, .\n",
    "$$\n"
   ]
  },
  {
   "cell_type": "code",
   "execution_count": 6,
   "id": "meaning-exemption",
   "metadata": {},
   "outputs": [],
   "source": [
    "# Function to compute the MLE given X and y\n",
    "def max_lik_estimate(X, y):\n",
    "    # X: N x D matrix of training inputs\n",
    "    # y: N x 1 vector of training targets/observations\n",
    "    # returns: maximum likelihood parameters (D x 1)\n",
    "    N, D = X.shape\n",
    "    \n",
    "    beta_ml = np.linalg.solve(X.T @ X, X.T @ y)\n",
    "    return beta_ml"
   ]
  },
  {
   "cell_type": "markdown",
   "id": "collect-start",
   "metadata": {},
   "source": [
    "Next we have a function that outputs the predicted values given some test data and the beta parameters of the model."
   ]
  },
  {
   "cell_type": "code",
   "execution_count": 7,
   "id": "understood-torture",
   "metadata": {},
   "outputs": [],
   "source": [
    "def predict_with_estimate(X_test, beta):\n",
    "    # X_test: K x D matrix of test inputs\n",
    "    # beta: D x 1 vector of parameters\n",
    "    # returns: prediction of f(X_test); K x 1 vector\n",
    "    \n",
    "    prediction = X_test @ beta\n",
    "    \n",
    "    return prediction "
   ]
  },
  {
   "cell_type": "markdown",
   "id": "continued-fabric",
   "metadata": {},
   "source": [
    "The parameters of this particular model are obtained below:"
   ]
  },
  {
   "cell_type": "code",
   "execution_count": 8,
   "id": "earned-greene",
   "metadata": {},
   "outputs": [
    {
     "name": "stdout",
     "output_type": "stream",
     "text": [
      "[ 2.25206705e+01 -6.23509421e-01  5.07191271e+03 -3.55100636e+04\n",
      "  3.55098886e+04  1.39496495e+09  9.79427526e+02 -1.64223172e-01\n",
      "  1.20208274e+03 -9.76305983e+02 -5.01509709e-02 -6.12934767e+03\n",
      "  7.48646362e-01 -3.71494965e+00 -1.39496496e+09  6.12761154e+03\n",
      " -5.07077881e+03 -1.20558061e+03]\n"
     ]
    }
   ],
   "source": [
    "beta_ml = max_lik_estimate(X_train,Y_train)\n",
    "print(beta_ml)"
   ]
  },
  {
   "cell_type": "markdown",
   "id": "subsequent-bracelet",
   "metadata": {},
   "source": [
    "Next the in-sample MSE is calculated below:"
   ]
  },
  {
   "cell_type": "code",
   "execution_count": 9,
   "id": "blessed-angola",
   "metadata": {},
   "outputs": [
    {
     "name": "stdout",
     "output_type": "stream",
     "text": [
      "In sample MSE    : 24.38006444485437\n"
     ]
    }
   ],
   "source": [
    "# in sample MSE\n",
    "train_preds = predict_with_estimate(X_train, beta_ml)\n",
    "MSE_train = np.mean((Y_train - train_preds) ** 2)\n",
    "print(\"In sample MSE    : \" + str(MSE_train))"
   ]
  },
  {
   "cell_type": "markdown",
   "id": "administrative-litigation",
   "metadata": {},
   "source": [
    "#### Question 1.1.2\n",
    "***"
   ]
  },
  {
   "cell_type": "markdown",
   "id": "civilian-fisher",
   "metadata": {},
   "source": [
    "We then use the model on the test data and obtain a prediction which is used to compute the out-of-sample MSE."
   ]
  },
  {
   "cell_type": "code",
   "execution_count": 10,
   "id": "lined-reply",
   "metadata": {},
   "outputs": [
    {
     "name": "stdout",
     "output_type": "stream",
     "text": [
      "Out of sample MSE: 19.525828624573784\n"
     ]
    }
   ],
   "source": [
    "# out of sample MSE\n",
    "test_preds = predict_with_estimate(X_test, beta_ml)\n",
    "MSE_test = np.mean((Y_test - test_preds) ** 2)\n",
    "print(\"Out of sample MSE: \" + str(MSE_test))"
   ]
  },
  {
   "cell_type": "markdown",
   "id": "equipped-gamma",
   "metadata": {},
   "source": [
    "We observe the the out-of-sample MSE seems to be lower than the in-sample MSE.\n",
    "Initially we might think this is strange as the model was trained using in-sample data, but performs better on the out-of-sample data.\n",
    "\n",
    "However this can be explained by the fact that there could be outliers in the training set causing the MSE to be higher. Furthermore, as the training set is assumed to be one random sample from the available data, this could just be a case where the sample is not representative of the whole dataset."
   ]
  },
  {
   "cell_type": "markdown",
   "id": "associate-poster",
   "metadata": {},
   "source": [
    "### 1.2 Ridge Regression\n",
    "***\n",
    "\n",
    "#### Question 1.2.1\n",
    "***"
   ]
  },
  {
   "cell_type": "markdown",
   "id": "danish-trauma",
   "metadata": {},
   "source": [
    "Next we implement a ridge regression model, which is similar to linear regression, however we add a penalty term  $\\lambda$.\n",
    "\n",
    "So in the least squares sense of linear regression, the loss function is:\n",
    "\n",
    "$$\n",
    "\\underset{\\boldsymbol\\beta}{\\text{min}} \\ \\text{L}_{\\text{ridge}} (\\boldsymbol\\beta) = \\underset{\\boldsymbol\\beta}{\\text{min}} \\| \\mathcal Y - \\mathcal X \\boldsymbol\\beta \\|^2 + \\lambda \\| \\boldsymbol\\beta \\|^2 \n",
    "$$\n",
    "\n",
    "and the beta parameters we obtain is given by the formula:\n",
    "\n",
    "$$\n",
    "\\boldsymbol\\beta^{*}_{\\text{ridge}} = (\\boldsymbol X^T\\boldsymbol X + \\lambda I)^{-1}\\boldsymbol X^T\\boldsymbol y \\, .\n",
    "$$"
   ]
  },
  {
   "cell_type": "markdown",
   "id": "numerous-invitation",
   "metadata": {},
   "source": [
    "First we have a function to compute and return the beta parameters for ridge regression."
   ]
  },
  {
   "cell_type": "code",
   "execution_count": 11,
   "id": "ideal-amino",
   "metadata": {},
   "outputs": [],
   "source": [
    "def ridge_estimate(X, y, penalty):\n",
    "    # X: N x D matrix of training inputs\n",
    "    # y: N x 1 vector of training targets/observations\n",
    "    # returns: maximum likelihood parameters (D x 1)\n",
    "    \n",
    "    N, D = X.shape\n",
    "    I = np.identity(D)\n",
    "    beta_ridge = np.linalg.solve(X.T @ X + penalty * I, X.T @ y)\n",
    "    return beta_ridge"
   ]
  },
  {
   "cell_type": "markdown",
   "id": "conventional-kinase",
   "metadata": {},
   "source": [
    "As our aim is to perform cross-validation, next we have a function to randomly split a given dataset into the given number of folds as required."
   ]
  },
  {
   "cell_type": "code",
   "execution_count": 12,
   "id": "pleased-practice",
   "metadata": {},
   "outputs": [],
   "source": [
    "def cross_val_split(data, num_folds):\n",
    "  fold_size = int(len(data) / num_folds)\n",
    "  data_perm = np.random.permutation(data)\n",
    "  folds = []\n",
    "  for k in range(num_folds):\n",
    "    folds.append(data_perm[k*fold_size:(k+1)*fold_size, :])\n",
    "\n",
    "  return folds"
   ]
  },
  {
   "cell_type": "markdown",
   "id": "latter-alloy",
   "metadata": {},
   "source": [
    "Next we aggregate the X and Y data into one array, so they can be used for cross validation.\n",
    "And we generate the folds which are stored in a dictionary."
   ]
  },
  {
   "cell_type": "code",
   "execution_count": 13,
   "id": "seventh-replica",
   "metadata": {},
   "outputs": [],
   "source": [
    "train = np.hstack((X_train, Y_train[:, np.newaxis]))\n",
    "\n",
    "# Generate the folds\n",
    "folds = cross_val_split(train, 5)"
   ]
  },
  {
   "cell_type": "markdown",
   "id": "stunning-nebraska",
   "metadata": {},
   "source": [
    "In order to scan the optimal $\\lambda$ term, we create a vector of different possible lambdas from 0 to 100"
   ]
  },
  {
   "cell_type": "code",
   "execution_count": 14,
   "id": "great-comparison",
   "metadata": {},
   "outputs": [],
   "source": [
    "lambda_vec = np.linspace(0, 100, num=1001)"
   ]
  },
  {
   "cell_type": "markdown",
   "id": "unavailable-region",
   "metadata": {},
   "source": [
    "Finally, we create a function that has one loop through the set of folds and another loop over the vector of lambdas, and applies ridge ression to every possible combination of these.\n",
    "\n",
    "The training and validation MSEs are also computed in the function and they are stored in dictionaries which are returned at the end of the function."
   ]
  },
  {
   "cell_type": "code",
   "execution_count": 15,
   "id": "floral-aluminum",
   "metadata": {},
   "outputs": [],
   "source": [
    "def cross_val_evaluate_ridge(folds, lambda_vec):\n",
    "    # create dictionaries\n",
    "    train_MSE = {1:[], 2:[], 3:[], 4:[], 5:[]}\n",
    "    val_MSE = {1:[], 2:[], 3:[], 4:[], 5:[]}\n",
    "\n",
    "    for i in range(len(folds)):\n",
    "        print('Fold', i+1)\n",
    "        # define the training set (i.e. selecting all folds and deleting the one used for validation)\n",
    "        train_set = np.delete(np.asarray(folds).reshape(len(folds), folds[0].shape[0], folds[0].shape[1]), i, axis=0)\n",
    "        train_folds = train_set.reshape(len(train_set)*train_set[0].shape[0], train_set[0].shape[1])\n",
    "        X_train = train_folds[:,:-1]\n",
    "        y_train = train_folds[:, -1]\n",
    "        \n",
    "        # define the validation set\n",
    "        val_fold = folds[i]\n",
    "        X_val = val_fold[:,:-1]\n",
    "        y_val = val_fold[:, -1]\n",
    "    \n",
    "        # train the model and obtain the parameters for each lambda\n",
    "        for pen in lambda_vec:\n",
    "            \n",
    "            beta_ridge = ridge_estimate(X_train, y_train, penalty=pen)\n",
    "            \n",
    "            # evaluate\n",
    "            # training data MSE\n",
    "            train_preds_ridge = predict_with_estimate(X_train, beta_ridge)\n",
    "            MSE_train_ridge = np.mean((y_train - train_preds_ridge) ** 2)\n",
    "            \n",
    "            # validation data MSE\n",
    "            test_preds_ridge = predict_with_estimate(X_val, beta_ridge)\n",
    "            MSE_val_ridge = np.mean((y_val - test_preds_ridge) ** 2)\n",
    "            \n",
    "            # store these in the appropriate dictionaries\n",
    "            train_MSE[i+1].append(MSE_train_ridge)\n",
    "            val_MSE[i+1].append(MSE_val_ridge)\n",
    "    \n",
    "    print(\"Training finished.\")\n",
    "    return train_MSE, val_MSE"
   ]
  },
  {
   "cell_type": "markdown",
   "id": "published-character",
   "metadata": {},
   "source": [
    "We then call and run the function using our folds and lambda vector"
   ]
  },
  {
   "cell_type": "code",
   "execution_count": 16,
   "id": "spanish-assembly",
   "metadata": {},
   "outputs": [
    {
     "name": "stdout",
     "output_type": "stream",
     "text": [
      "Fold 1\n",
      "Fold 2\n",
      "Fold 3\n",
      "Fold 4\n",
      "Fold 5\n",
      "Training finished.\n"
     ]
    }
   ],
   "source": [
    "train_MSE, val_MSE = cross_val_evaluate_ridge(folds, lambda_vec)"
   ]
  },
  {
   "cell_type": "markdown",
   "id": "graduate-summer",
   "metadata": {},
   "source": [
    "Next, we consider a particular fold, in this case fold 1.\n",
    "And we plot the MSE errors obtained against the different penalty terms:"
   ]
  },
  {
   "cell_type": "code",
   "execution_count": 17,
   "id": "processed-class",
   "metadata": {},
   "outputs": [
    {
     "data": {
      "image/png": "[encoded data removed]",
      "text/plain": [
       "<Figure size 432x288 with 1 Axes>"
      ]
     },
     "metadata": {
      "needs_background": "light"
     },
     "output_type": "display_data"
    },
    {
     "name": "stdout",
     "output_type": "stream",
     "text": [
      "Optimal λ for Fold 1 is 3.9000000000000004\n"
     ]
    }
   ],
   "source": [
    "plt.title(\"Plot of MSE errors for over different penalty terms for Ridge Regression [Fold 1]\")\n",
    "plt.plot(lambda_vec, train_MSE[1], label = \"Training Errors\")\n",
    "plt.plot(lambda_vec, val_MSE[1], label = \"Validation Errors\")\n",
    "plt.legend()\n",
    "plt.grid()\n",
    "plt.xlabel(\"$\\lambda$\")\n",
    "plt.ylabel(\"MSE\")\n",
    "plt.show()\n",
    "print(\"Optimal λ for Fold 1 is \" + str(lambda_vec[np.argmin(val_MSE[1])]))"
   ]
  },
  {
   "cell_type": "markdown",
   "id": "roman-number",
   "metadata": {},
   "source": [
    "Note that the optimal $\\lambda$ for each fold is obtained by taking the index of the minimum of the validation MSE, and using that index to find the corresponding lambda.\n",
    "\n",
    "This is done for each of the five folds:"
   ]
  },
  {
   "cell_type": "code",
   "execution_count": 18,
   "id": "controlled-confidentiality",
   "metadata": {},
   "outputs": [
    {
     "name": "stdout",
     "output_type": "stream",
     "text": [
      "Optimal λ for Fold 1 is 3.9000000000000004\n",
      "Optimal λ for Fold 2 is 0.1\n",
      "Optimal λ for Fold 3 is 13.3\n",
      "Optimal λ for Fold 4 is 17.0\n",
      "Optimal λ for Fold 5 is 0.1\n"
     ]
    }
   ],
   "source": [
    "# The optimal lambdas for for each fold obtained using argmin\n",
    "for i in range(0,5):\n",
    "    print(\"Optimal λ for Fold \" + str(i+1) + \" is \" + str(lambda_vec[np.argmin(val_MSE[i+1])]))"
   ]
  },
  {
   "cell_type": "markdown",
   "id": "stone-neighborhood",
   "metadata": {},
   "source": [
    "#### Question 1.2.2\n",
    "***"
   ]
  },
  {
   "cell_type": "markdown",
   "id": "killing-transparency",
   "metadata": {},
   "source": [
    "In order to compute the average in-sample and out-of-sample MSEs, we first need to obtain the optimal $\\lambda$ out of all the folds.\n",
    "\n",
    "This is done by computing the average validation MSE over all the folds for each $\\lambda$, and then finding the minimum over this:"
   ]
  },
  {
   "cell_type": "code",
   "execution_count": 19,
   "id": "hungry-bidding",
   "metadata": {},
   "outputs": [
    {
     "name": "stdout",
     "output_type": "stream",
     "text": [
      "The optimal lambda is: 1.3\n"
     ]
    }
   ],
   "source": [
    "# Compute the average validation MSE over the folds, to get average for each penalty term\n",
    "average_val_MSE = np.mean([val_MSE[fold] for fold in range(1, 6)], axis = 0)\n",
    "optimal_lambda = lambda_vec[np.argmin(average_val_MSE)]\n",
    "print(\"The optimal lambda is: \" + str(optimal_lambda))"
   ]
  },
  {
   "cell_type": "markdown",
   "id": "ongoing-catering",
   "metadata": {},
   "source": [
    "We then train the model over the whole of the training data using this optimal lambda parameter."
   ]
  },
  {
   "cell_type": "code",
   "execution_count": 20,
   "id": "australian-corporation",
   "metadata": {},
   "outputs": [],
   "source": [
    "beta_ridge = ridge_estimate(X_train, Y_train, penalty=optimal_lambda)"
   ]
  },
  {
   "cell_type": "markdown",
   "id": "jewish-argument",
   "metadata": {},
   "source": [
    "The resulting MSEs are obtained below:"
   ]
  },
  {
   "cell_type": "code",
   "execution_count": 21,
   "id": "mature-complexity",
   "metadata": {},
   "outputs": [
    {
     "name": "stdout",
     "output_type": "stream",
     "text": [
      "Ridge - In sample error    : 24.559828320867624\n",
      "Ridge - Out of sample error: 19.360934376274972\n"
     ]
    }
   ],
   "source": [
    "# in sample MSE\n",
    "train_preds_ridge = predict_with_estimate(X_train, beta_ridge)\n",
    "MSE_train_ridge = np.mean((Y_train - train_preds_ridge) ** 2)\n",
    "\n",
    "# out of sample MSE\n",
    "test_preds_ridge = predict_with_estimate(X_test, beta_ridge)\n",
    "MSE_test_ridge = np.mean((Y_test - test_preds_ridge) ** 2)\n",
    "\n",
    "print(\"Ridge - In sample error    : \" + str(MSE_train_ridge))\n",
    "print(\"Ridge - Out of sample error: \" + str(MSE_test_ridge))"
   ]
  },
  {
   "cell_type": "markdown",
   "id": "oriental-tunnel",
   "metadata": {},
   "source": [
    "For comparsion, the MSEs obtained via linear regression are as below:"
   ]
  },
  {
   "cell_type": "code",
   "execution_count": 22,
   "id": "sporting-professional",
   "metadata": {},
   "outputs": [
    {
     "name": "stdout",
     "output_type": "stream",
     "text": [
      "Linear Regression - In sample error    : 24.38006444485437\n",
      "Linear Regression - Out of sample error: 19.525828624573784\n"
     ]
    }
   ],
   "source": [
    "print(\"Linear Regression - In sample error    : \" + str(MSE_train))\n",
    "print(\"Linear Regression - Out of sample error: \" + str(MSE_test))"
   ]
  },
  {
   "cell_type": "markdown",
   "id": "qualified-hearing",
   "metadata": {},
   "source": [
    "Thus we can see that both the methods produce very similar results, with the ridge regression obtaining slightly out-of-sample MSE (which is the target we are interested in)."
   ]
  },
  {
   "cell_type": "markdown",
   "id": "enhanced-retrieval",
   "metadata": {},
   "source": [
    "The ridge regression model has a penalty term whose effect is to try and keep the coefficients small, and the benefit of this is that there can be lower variance in the model.  "
   ]
  },
  {
   "cell_type": "markdown",
   "id": "southeast-appreciation",
   "metadata": {},
   "source": [
    "We do indeed observer that the the coefficients (the beta vector for ridge) are smaller:"
   ]
  },
  {
   "cell_type": "code",
   "execution_count": 23,
   "id": "federal-provincial",
   "metadata": {},
   "outputs": [
    {
     "data": {
      "text/html": [
       "<div>\n",
       "<style scoped>\n",
       "    .dataframe tbody tr th:only-of-type {\n",
       "        vertical-align: middle;\n",
       "    }\n",
       "\n",
       "    .dataframe tbody tr th {\n",
       "        vertical-align: top;\n",
       "    }\n",
       "\n",
       "    .dataframe thead th {\n",
       "        text-align: right;\n",
       "    }\n",
       "</style>\n",
       "<table border=\"1\" class=\"dataframe\">\n",
       "  <thead>\n",
       "    <tr style=\"text-align: right;\">\n",
       "      <th></th>\n",
       "      <th>Linear Regression Parameters</th>\n",
       "      <th>Ridge Regression Parameters</th>\n",
       "      <th>Absolute Difference in Parameters</th>\n",
       "    </tr>\n",
       "  </thead>\n",
       "  <tbody>\n",
       "    <tr>\n",
       "      <th>β_0</th>\n",
       "      <td>22.521</td>\n",
       "      <td>22.455</td>\n",
       "      <td>0.065</td>\n",
       "    </tr>\n",
       "    <tr>\n",
       "      <th>β_1</th>\n",
       "      <td>-0.624</td>\n",
       "      <td>-0.636</td>\n",
       "      <td>0.012</td>\n",
       "    </tr>\n",
       "    <tr>\n",
       "      <th>β_2</th>\n",
       "      <td>5071.913</td>\n",
       "      <td>0.572</td>\n",
       "      <td>5071.34</td>\n",
       "    </tr>\n",
       "    <tr>\n",
       "      <th>β_3</th>\n",
       "      <td>-35510.064</td>\n",
       "      <td>-0.1</td>\n",
       "      <td>35509.963</td>\n",
       "    </tr>\n",
       "    <tr>\n",
       "      <th>β_4</th>\n",
       "      <td>35509.889</td>\n",
       "      <td>-0.1</td>\n",
       "      <td>35509.988</td>\n",
       "    </tr>\n",
       "    <tr>\n",
       "      <th>β_5</th>\n",
       "      <td>1394964953.358</td>\n",
       "      <td>-0.84</td>\n",
       "      <td>1394964954.198</td>\n",
       "    </tr>\n",
       "    <tr>\n",
       "      <th>β_6</th>\n",
       "      <td>979.428</td>\n",
       "      <td>1.585</td>\n",
       "      <td>977.842</td>\n",
       "    </tr>\n",
       "    <tr>\n",
       "      <th>β_7</th>\n",
       "      <td>-0.164</td>\n",
       "      <td>-0.148</td>\n",
       "      <td>0.017</td>\n",
       "    </tr>\n",
       "    <tr>\n",
       "      <th>β_8</th>\n",
       "      <td>1202.083</td>\n",
       "      <td>-1.732</td>\n",
       "      <td>1203.814</td>\n",
       "    </tr>\n",
       "    <tr>\n",
       "      <th>β_9</th>\n",
       "      <td>-976.306</td>\n",
       "      <td>1.56</td>\n",
       "      <td>977.866</td>\n",
       "    </tr>\n",
       "    <tr>\n",
       "      <th>β_10</th>\n",
       "      <td>-0.05</td>\n",
       "      <td>-0.092</td>\n",
       "      <td>0.042</td>\n",
       "    </tr>\n",
       "    <tr>\n",
       "      <th>β_11</th>\n",
       "      <td>-6129.348</td>\n",
       "      <td>-0.872</td>\n",
       "      <td>6128.475</td>\n",
       "    </tr>\n",
       "    <tr>\n",
       "      <th>β_12</th>\n",
       "      <td>0.749</td>\n",
       "      <td>0.82</td>\n",
       "      <td>0.071</td>\n",
       "    </tr>\n",
       "    <tr>\n",
       "      <th>β_13</th>\n",
       "      <td>-3.715</td>\n",
       "      <td>-3.634</td>\n",
       "      <td>0.081</td>\n",
       "    </tr>\n",
       "    <tr>\n",
       "      <th>β_14</th>\n",
       "      <td>-1394964955.129</td>\n",
       "      <td>-0.84</td>\n",
       "      <td>1394964954.289</td>\n",
       "    </tr>\n",
       "    <tr>\n",
       "      <th>β_15</th>\n",
       "      <td>6127.612</td>\n",
       "      <td>-0.872</td>\n",
       "      <td>6128.483</td>\n",
       "    </tr>\n",
       "    <tr>\n",
       "      <th>β_16</th>\n",
       "      <td>-5070.779</td>\n",
       "      <td>0.572</td>\n",
       "      <td>5071.351</td>\n",
       "    </tr>\n",
       "    <tr>\n",
       "      <th>β_17</th>\n",
       "      <td>-1205.581</td>\n",
       "      <td>-1.733</td>\n",
       "      <td>1203.847</td>\n",
       "    </tr>\n",
       "  </tbody>\n",
       "</table>\n",
       "</div>"
      ],
      "text/plain": [
       "      Linear Regression Parameters  Ridge Regression Parameters  \\\n",
       "β_0                         22.521                       22.455   \n",
       "β_1                         -0.624                       -0.636   \n",
       "β_2                       5071.913                        0.572   \n",
       "β_3                     -35510.064                         -0.1   \n",
       "β_4                      35509.889                         -0.1   \n",
       "β_5                 1394964953.358                        -0.84   \n",
       "β_6                        979.428                        1.585   \n",
       "β_7                         -0.164                       -0.148   \n",
       "β_8                       1202.083                       -1.732   \n",
       "β_9                       -976.306                         1.56   \n",
       "β_10                         -0.05                       -0.092   \n",
       "β_11                     -6129.348                       -0.872   \n",
       "β_12                         0.749                         0.82   \n",
       "β_13                        -3.715                       -3.634   \n",
       "β_14               -1394964955.129                        -0.84   \n",
       "β_15                      6127.612                       -0.872   \n",
       "β_16                     -5070.779                        0.572   \n",
       "β_17                     -1205.581                       -1.733   \n",
       "\n",
       "      Absolute Difference in Parameters  \n",
       "β_0                               0.065  \n",
       "β_1                               0.012  \n",
       "β_2                             5071.34  \n",
       "β_3                           35509.963  \n",
       "β_4                           35509.988  \n",
       "β_5                      1394964954.198  \n",
       "β_6                             977.842  \n",
       "β_7                               0.017  \n",
       "β_8                            1203.814  \n",
       "β_9                             977.866  \n",
       "β_10                              0.042  \n",
       "β_11                           6128.475  \n",
       "β_12                              0.071  \n",
       "β_13                              0.081  \n",
       "β_14                     1394964954.289  \n",
       "β_15                           6128.483  \n",
       "β_16                           5071.351  \n",
       "β_17                           1203.847  "
      ]
     },
     "execution_count": 23,
     "metadata": {},
     "output_type": "execute_result"
    }
   ],
   "source": [
    "# Differences observed in parameters\n",
    "abs_diff_beta = np.abs(beta_ml - beta_ridge)\n",
    "\n",
    "df_beta_parameters = pd.DataFrame(columns=['Linear Regression Parameters', \n",
    "                                           'Ridge Regression Parameters',\n",
    "                                           'Absolute Difference in Parameters'],\n",
    "                                  index=[['β_%s' %i for i in range(18)]],\n",
    "                                  data = np.array([beta_ml, beta_ridge, abs_diff_beta]).T)\n",
    "\n",
    "pd.set_option('display.float_format', str)\n",
    "\n",
    "df_beta_parameters.round(3)"
   ]
  },
  {
   "cell_type": "markdown",
   "id": "dominant-proposal",
   "metadata": {},
   "source": [
    "In particular, ridge regression is advantageous in the cases where many predictors are collinear with eachother, however if this is not the case then ridge may not provide any significant advantage."
   ]
  },
  {
   "cell_type": "markdown",
   "id": "helpful-digest",
   "metadata": {},
   "source": [
    "We can investigate this collinearity using a correlation matrix:"
   ]
  },
  {
   "cell_type": "code",
   "execution_count": 24,
   "id": "final-applicant",
   "metadata": {},
   "outputs": [
    {
     "data": {
      "image/png": "[encoded data removed]",
      "text/plain": [
       "<Figure size 432x288 with 2 Axes>"
      ]
     },
     "metadata": {
      "needs_background": "light"
     },
     "output_type": "display_data"
    }
   ],
   "source": [
    "# Correlation Matrix\n",
    "corr_mat = pd.DataFrame(X_train).corr()\n",
    "sns.heatmap(np.array(corr_mat)[1:, 1:])\n",
    "plt.show()"
   ]
  },
  {
   "cell_type": "markdown",
   "id": "better-township",
   "metadata": {},
   "source": [
    "Here, the lighter squares correspond to precitors being very correlated.\n",
    "We have excluded the column of ones here, and we observe that apart from the diagonal, there only seem to be very few highly correlated predictors. For example on the diagram we can observe predictors 1 and 15 appear to be highly correlated.\n",
    "\n",
    "However the vast majority are much darker, suggesting that there is not a significant amount of collinearity present in general. And hence ridge regression can only provide a small advantage (as seen by the lower MSE)."
   ]
  },
  {
   "cell_type": "markdown",
   "id": "literary-receptor",
   "metadata": {},
   "source": [
    "### 1.3 Regression with $k$ nearest neighbours ($knn$)\n",
    "***\n",
    "\n",
    "#### Question 1.3.1\n",
    "***"
   ]
  },
  {
   "cell_type": "markdown",
   "id": "fourth-transformation",
   "metadata": {},
   "source": [
    "Firstly, we begin by making our knn algorithm.\n",
    "\n",
    "The k nearest neighbours algorithm works by computing the distances between a given test set and the samples from the training set. It then selects the $k$ nearest neighbours to each point in the test set, and in the case of regression, averages these values in the neighbourhood to form a prediciton."
   ]
  },
  {
   "cell_type": "code",
   "execution_count": 25,
   "id": "western-african",
   "metadata": {},
   "outputs": [],
   "source": [
    "# distance function for kNN\n",
    "def euclidian_distance(p, q):\n",
    "    return np.sqrt(np.sum((q-p)**2, axis = 1))\n",
    "\n",
    "# function to find the k nearest neighbours in the training set given a test set\n",
    "def k_neighbours(X_train, X_test, k=5, return_distance=False):\n",
    "    dist = []\n",
    "    neigh_ind = []\n",
    "    \n",
    "    # compute distance from each point x_text in X_test to all points in X_train \n",
    "    point_dist =  [euclidian_distance(x_test, X_train) for x_test in X_test]\n",
    "    \n",
    "    # determine which k training points are closest to each test point\n",
    "    for row in point_dist:\n",
    "        enum_neigh = enumerate(row)\n",
    "        sorted_neigh = sorted(enum_neigh, key=lambda x: x[1])[:k]\n",
    "    \n",
    "        ind_list = [tup[0] for tup in sorted_neigh]\n",
    "        dist_list = [tup[1] for tup in sorted_neigh]\n",
    "    \n",
    "        dist.append(dist_list)\n",
    "        neigh_ind.append(ind_list)\n",
    "    \n",
    "    # return distances together with indices of k nearest neighbours\n",
    "    if return_distance:\n",
    "        return np.array(dist), np.array(neigh_ind)\n",
    "    \n",
    "    return np.array(neigh_ind)"
   ]
  },
  {
   "cell_type": "code",
   "execution_count": 26,
   "id": "indie-overhead",
   "metadata": {},
   "outputs": [],
   "source": [
    "# A function to predict the values of the test points.\n",
    "def reg_predict(X_train, Y_train, X_test, k):\n",
    "    # each of the k neighbours contributes equally to the classification of any data point in X_test  \n",
    "    neighbours = k_neighbours(X_train, X_test, k=k)\n",
    "    # compute mean over neighbours labels \n",
    "    Y_pred = np.array([np.mean(Y_train[neighbour]) for neighbour in neighbours])\n",
    "    return Y_pred"
   ]
  },
  {
   "cell_type": "markdown",
   "id": "secure-eligibility",
   "metadata": {},
   "source": [
    "Finally, we need a measure of how well the model predicts the y values.\n",
    "For this we use the $R^2$ score.\n",
    "\n",
    "$$\n",
    "R^2(y, \\hat{y}) = 1 - \\frac{\\sum_{i=1}^n (y_i - \\hat{y}_i)^2}{\\sum_{i=1}^n (y_i - \\bar{y})^2} \\, ,\n",
    "$$\n",
    "where $\\bar{y} = \\frac{1}{n} \\sum_{i=1}^n y_i$."
   ]
  },
  {
   "cell_type": "code",
   "execution_count": 27,
   "id": "dying-promotion",
   "metadata": {},
   "outputs": [],
   "source": [
    "# Function that calculates the R2 score given the predictions and actual values\n",
    "def r2_score(y_test, y_pred):\n",
    "    numerator = np.sum((y_test - y_pred)**2)\n",
    "    y_avg = np.mean(y_test)\n",
    "    denominator = np.sum((y_test - y_avg)**2)\n",
    "    return 1 - numerator/denominator"
   ]
  },
  {
   "cell_type": "markdown",
   "id": "incomplete-father",
   "metadata": {},
   "source": [
    "Again, in order to scan the optimal parameter term (in this case $k$), we create a vector of different possible values from 1 to 50"
   ]
  },
  {
   "cell_type": "code",
   "execution_count": 28,
   "id": "noticed-graduation",
   "metadata": {},
   "outputs": [],
   "source": [
    "k_vec = np.arange(50)+1"
   ]
  },
  {
   "cell_type": "code",
   "execution_count": 29,
   "id": "fifth-resident",
   "metadata": {},
   "outputs": [],
   "source": [
    "def cross_val_evaluate_kNN(folds, k_vec):\n",
    "    \n",
    "    # create dictionaries\n",
    "    train_MSE = {1:[], 2:[], 3:[], 4:[], 5:[]}\n",
    "    val_MSE = {1:[], 2:[], 3:[], 4:[], 5:[]}\n",
    "\n",
    "    for i in range(len(folds)):\n",
    "      \n",
    "        print('Fold', i+1)\n",
    "        # define the training set (i.e. selecting all folds and deleting the one used for validation)\n",
    "        train_set = np.delete(np.asarray(folds).reshape(len(folds), folds[0].shape[0], folds[0].shape[1]), i, axis=0)\n",
    "        train_folds = train_set.reshape(len(train_set)*train_set[0].shape[0], train_set[0].shape[1])\n",
    "        X_train = train_folds[:,:-1]\n",
    "        y_train = train_folds[:, -1]\n",
    "        \n",
    "        # define the validation set\n",
    "        val_fold = folds[i]\n",
    "        X_val = val_fold[:,:-1]\n",
    "        y_val = val_fold[:, -1]\n",
    "    \n",
    "        # train the model and obtain the parameters for each k\n",
    "        for k_param in k_vec:                        \n",
    "            train_preds_kNN = reg_predict(X_train, y_train, X_train, k_param)\n",
    "            val_preds_kNN = reg_predict(X_train, y_train, X_val, k_param)\n",
    "            \n",
    "            # evaluate\n",
    "            # training data MSE\n",
    "            MSE_train_kNN = np.mean((y_train - train_preds_kNN) ** 2)\n",
    "            \n",
    "            # validation data MSE\n",
    "            MSE_val_kNN = np.mean((y_val - val_preds_kNN) ** 2)\n",
    "            \n",
    "            # store these in the appropriate dictionaries\n",
    "            train_MSE[i+1].append(MSE_train_kNN)\n",
    "            val_MSE[i+1].append(MSE_val_kNN)\n",
    "    \n",
    "   \n",
    "    print(\"Training finished.\")\n",
    "    return train_MSE, val_MSE"
   ]
  },
  {
   "cell_type": "markdown",
   "id": "enhanced-reverse",
   "metadata": {},
   "source": [
    "As before, we create a function that has one loop through the set of folds and another loop over the vector of $k$s, and applies the kNN model for wach combination\n",
    "\n",
    "The training and validation MSEs are also computed similarly and stored in dictionaries again:"
   ]
  },
  {
   "cell_type": "markdown",
   "id": "impaired-excuse",
   "metadata": {},
   "source": [
    "Perform the cross validation for each parameter value as required:"
   ]
  },
  {
   "cell_type": "code",
   "execution_count": 30,
   "id": "foster-karma",
   "metadata": {},
   "outputs": [
    {
     "name": "stdout",
     "output_type": "stream",
     "text": [
      "Fold 1\n",
      "Fold 2\n",
      "Fold 3\n",
      "Fold 4\n",
      "Fold 5\n",
      "Training finished.\n"
     ]
    }
   ],
   "source": [
    "train_MSE_kNN, val_MSE_kNN = cross_val_evaluate_kNN(folds, k_vec)"
   ]
  },
  {
   "cell_type": "markdown",
   "id": "seasonal-machinery",
   "metadata": {},
   "source": [
    "Again, consider Fold 1 from our set of folds.\n",
    "We see in the function above that for this fold, a new model is created for each $k$, and the two MSEs are computed.\n",
    "These can then be plotted as below:"
   ]
  },
  {
   "cell_type": "code",
   "execution_count": 31,
   "id": "sonic-hierarchy",
   "metadata": {},
   "outputs": [
    {
     "data": {
      "image/png": "[encoded data removed]",
      "text/plain": [
       "<Figure size 432x288 with 1 Axes>"
      ]
     },
     "metadata": {
      "needs_background": "light"
     },
     "output_type": "display_data"
    }
   ],
   "source": [
    "plt.title(\"Plot of MSE errors for over different k values for kNN [Fold 1]\")\n",
    "plt.plot(k_vec, train_MSE_kNN[1], label = \"Training Errors\")\n",
    "plt.plot(k_vec, val_MSE_kNN[1], label = \"Validation Errors\")\n",
    "plt.legend()\n",
    "plt.grid()\n",
    "plt.xlabel(\"k\")\n",
    "plt.ylabel(\"MSE\")\n",
    "plt.show()"
   ]
  },
  {
   "cell_type": "markdown",
   "id": "fifty-petroleum",
   "metadata": {},
   "source": [
    "From the plot we can see that the training MSE is a strictly increasing function of k, however for the validation error, there appears to be a minimum in the MSE between 0 and 10.\n",
    "\n",
    "We can obtain the optimal $k$ at which this happens using the \"argmin\" function as before:"
   ]
  },
  {
   "cell_type": "code",
   "execution_count": 32,
   "id": "beneficial-gnome",
   "metadata": {},
   "outputs": [
    {
     "name": "stdout",
     "output_type": "stream",
     "text": [
      "Optimal k for Fold 1 is 6\n"
     ]
    }
   ],
   "source": [
    "print(\"Optimal k for Fold 1 is \" + str(k_vec[np.argmin(val_MSE_kNN[1])]))"
   ]
  },
  {
   "cell_type": "markdown",
   "id": "desperate-lying",
   "metadata": {},
   "source": [
    "Similarly, the optimal parameter for each of the five folds are obtained below:"
   ]
  },
  {
   "cell_type": "code",
   "execution_count": 33,
   "id": "precious-competition",
   "metadata": {},
   "outputs": [
    {
     "name": "stdout",
     "output_type": "stream",
     "text": [
      "Optimal k for Fold 1 is 6\n",
      "Optimal k for Fold 2 is 2\n",
      "Optimal k for Fold 3 is 5\n",
      "Optimal k for Fold 4 is 4\n",
      "Optimal k for Fold 5 is 2\n"
     ]
    }
   ],
   "source": [
    "for i in range(0,5):\n",
    "    print(\"Optimal k for Fold \" + str(i+1) + \" is \" + str(k_vec[np.argmin(val_MSE_kNN[i+1])]))"
   ]
  },
  {
   "cell_type": "markdown",
   "id": "unlike-homework",
   "metadata": {},
   "source": [
    "In terms of the distribution of errors, it makes sense that there will be an optimal $k$ corresponding to a local minimum of the validation MSE. \n",
    "\n",
    "For very small $k$, we expect the model to perform very well for the training set (as each prediction has the actual value as one of the few neighbours), however it is also likely overfit to this set, and as a result it will not be generalisable to any new set (such as the validation set)\n",
    "\n",
    "In contrast, if $k$ is very large, then the model will no longer be very local as many neighbours will be selected for each point. Thus, this will no longer perform well for either the training or the validation set.\n",
    "\n",
    "And thus we expect there to be a minimum value of k that is small, but not small enough to overfit."
   ]
  },
  {
   "cell_type": "markdown",
   "id": "catholic-homeless",
   "metadata": {},
   "source": [
    "#### Question 1.3.1\n",
    "***"
   ]
  },
  {
   "cell_type": "markdown",
   "id": "fitting-punch",
   "metadata": {},
   "source": [
    "Next, we find the optimal value of k over all of the folds as follows:"
   ]
  },
  {
   "cell_type": "code",
   "execution_count": 40,
   "id": "canadian-attack",
   "metadata": {},
   "outputs": [
    {
     "name": "stdout",
     "output_type": "stream",
     "text": [
      "The optimal k overall is: 2\n"
     ]
    }
   ],
   "source": [
    "# Compute the average validation MSE over the folds, to get average for each penalty term\n",
    "average_val_MSE_kNN = np.mean([val_MSE_kNN[fold] for fold in range(1, 6)], axis = 0)\n",
    "optimal_k = k_vec[np.argmin(average_val_MSE_kNN)]\n",
    "print(\"The optimal k overall is: \" + str(optimal_k))"
   ]
  },
  {
   "cell_type": "markdown",
   "id": "fiscal-thesis",
   "metadata": {},
   "source": [
    "We then use this to train the model over the whole training dataset using the optimal $k$, and then obtain the in-sample and out-of-sample MSEs using the training and the test data respectively:"
   ]
  },
  {
   "cell_type": "code",
   "execution_count": 42,
   "id": "individual-richardson",
   "metadata": {},
   "outputs": [
    {
     "name": "stdout",
     "output_type": "stream",
     "text": [
      "Cross-val kNN - In sample error        : 3.973725247524753\n",
      "Cross-val kNN - Out of sample error    : 13.935808823529408\n"
     ]
    }
   ],
   "source": [
    "# in sample MSE\n",
    "train_preds_kNN = reg_predict(X_train, Y_train, X_train, optimal_k)\n",
    "MSE_train_kNN = np.mean((Y_train - train_preds_kNN) ** 2)\n",
    "\n",
    "# out of sample MSE\n",
    "test_preds_kNN = reg_predict(X_train, Y_train, X_test, optimal_k)\n",
    "MSE_test_kNN = np.mean((Y_test - test_preds_kNN) ** 2)\n",
    "\n",
    "print(\"Cross-val kNN - In sample error        : \" + str(MSE_train_kNN))\n",
    "print(\"Cross-val kNN - Out of sample error    : \" + str(MSE_test_kNN))"
   ]
  },
  {
   "cell_type": "markdown",
   "id": "enabling-skirt",
   "metadata": {},
   "source": [
    "And we can also get a measure of the accuracies using the $R^2$ score:"
   ]
  },
  {
   "cell_type": "code",
   "execution_count": 43,
   "id": "close-demographic",
   "metadata": {},
   "outputs": [
    {
     "name": "stdout",
     "output_type": "stream",
     "text": [
      "Cross-val kNN Train set mean accuracy  : 0.9557419532102102\n",
      "Cross-val kNN Test set mean accuracy   : 0.7619048240726203\n"
     ]
    }
   ],
   "source": [
    "print('Cross-val kNN Train set mean accuracy  :', r2_score(Y_train, train_preds_kNN))\n",
    "print('Cross-val kNN Test set mean accuracy   :', r2_score(Y_test, test_preds_kNN))"
   ]
  },
  {
   "cell_type": "markdown",
   "id": "fewer-tomorrow",
   "metadata": {},
   "source": [
    "The MSE values for each of the 3 models are summarised below:"
   ]
  },
  {
   "cell_type": "code",
   "execution_count": 44,
   "id": "crucial-arbor",
   "metadata": {},
   "outputs": [
    {
     "data": {
      "text/html": [
       "<div>\n",
       "<style scoped>\n",
       "    .dataframe tbody tr th:only-of-type {\n",
       "        vertical-align: middle;\n",
       "    }\n",
       "\n",
       "    .dataframe tbody tr th {\n",
       "        vertical-align: top;\n",
       "    }\n",
       "\n",
       "    .dataframe thead th {\n",
       "        text-align: right;\n",
       "    }\n",
       "</style>\n",
       "<table border=\"1\" class=\"dataframe\">\n",
       "  <thead>\n",
       "    <tr style=\"text-align: right;\">\n",
       "      <th></th>\n",
       "      <th>Training</th>\n",
       "      <th>Validation</th>\n",
       "    </tr>\n",
       "  </thead>\n",
       "  <tbody>\n",
       "    <tr>\n",
       "      <th>Linear Regression</th>\n",
       "      <td>24.38006444485437</td>\n",
       "      <td>19.525828624573784</td>\n",
       "    </tr>\n",
       "    <tr>\n",
       "      <th>Ridge Regression</th>\n",
       "      <td>24.559828320867624</td>\n",
       "      <td>19.360934376274972</td>\n",
       "    </tr>\n",
       "    <tr>\n",
       "      <th>kNN</th>\n",
       "      <td>3.973725247524753</td>\n",
       "      <td>13.935808823529408</td>\n",
       "    </tr>\n",
       "  </tbody>\n",
       "</table>\n",
       "</div>"
      ],
      "text/plain": [
       "                            Training         Validation\n",
       "Linear Regression  24.38006444485437 19.525828624573784\n",
       "Ridge Regression  24.559828320867624 19.360934376274972\n",
       "kNN                3.973725247524753 13.935808823529408"
      ]
     },
     "execution_count": 44,
     "metadata": {},
     "output_type": "execute_result"
    }
   ],
   "source": [
    "reg_MSE = np.array([[MSE_train, MSE_test],[MSE_train_ridge, MSE_test_ridge], [MSE_train_kNN, MSE_test_kNN]])\n",
    "reg_MSE_df = pd.DataFrame(reg_MSE, columns = [\"Training\", \"Validation\"], index = [\"Linear Regression\", \"Ridge Regression\", \"kNN\"])\n",
    "reg_MSE_df"
   ]
  },
  {
   "cell_type": "markdown",
   "id": "instant-mexico",
   "metadata": {},
   "source": [
    "Thus we see that the kNN model appears to have a much higher performance when comparing the Validation MSEs.\n",
    "This could be explained by the fact that the Linear and Ridge regression models require the assumption of linearity in the data, however as kNN is a local model, it can also deal with any non-linearity which may be present."
   ]
  },
  {
   "cell_type": "markdown",
   "id": "wrong-haiti",
   "metadata": {},
   "source": [
    "Furthermore, as we have no other information about the data, we are unsure if the data is homogeneous or not (that is drawn from a single or similar populations).\n",
    "\n",
    "The fact that the regression models performed slighlty worse may suggest that there is some inhomogeneity iand so one regression model for all the data might not be suitable. One possible way we could deal with an inhomogeneous data set, is by fitting different models over different regions, for example various kNN models for particular regions, each with an optimal $k$ for that area."
   ]
  },
  {
   "cell_type": "markdown",
   "id": "chinese-jenny",
   "metadata": {},
   "source": [
    "## Task 2: Classification\n",
    "***"
   ]
  },
  {
   "cell_type": "markdown",
   "id": "checked-eight",
   "metadata": {},
   "source": [
    "### 2.1 Logistic Regression\n",
    "***\n",
    "\n",
    "#### Question 2.1.1\n",
    "***"
   ]
  },
  {
   "cell_type": "code",
   "execution_count": null,
   "id": "sufficient-gender",
   "metadata": {},
   "outputs": [],
   "source": []
  }
 ],
 "metadata": {
  "kernelspec": {
   "display_name": "Python 3",
   "language": "python",
   "name": "python3"
  },
  "language_info": {
   "codemirror_mode": {
    "name": "ipython",
    "version": 3
   },
   "file_extension": ".py",
   "mimetype": "text/x-python",
   "name": "python",
   "nbconvert_exporter": "python",
   "pygments_lexer": "ipython3",
   "version": "3.8.3"
  }
 },
 "nbformat": 4,
 "nbformat_minor": 5
}
