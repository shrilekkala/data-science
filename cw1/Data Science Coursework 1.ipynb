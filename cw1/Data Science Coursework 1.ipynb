{
 "cells": [
  {
   "cell_type": "markdown",
   "id": "outside-hunter",
   "metadata": {},
   "source": [
    "# Data Science: Coursework 1\n",
    "\n",
    "### Shri Lekkala\n",
    "### CID: 01499487"
   ]
  },
  {
   "cell_type": "code",
   "execution_count": 88,
   "id": "integrated-belle",
   "metadata": {},
   "outputs": [],
   "source": [
    "# Import modules used throughout the coursework\n",
    "import numpy as np\n",
    "import pandas as pd\n",
    "import matplotlib.pyplot as plt\n",
    "from matplotlib import cm\n",
    "import seaborn as sns\n",
    "from collections import Counter\n",
    "\n",
    "# Set a random seed to fix the results\n",
    "np.random.seed(1024)"
   ]
  },
  {
   "cell_type": "markdown",
   "id": "federal-segment",
   "metadata": {},
   "source": [
    "## Task 1: Regression\n",
    "***"
   ]
  },
  {
   "cell_type": "markdown",
   "id": "rental-fusion",
   "metadata": {},
   "source": [
    "### 1.1 Linear Regression\n",
    "***\n",
    "\n",
    "#### Question 1.1.1\n",
    "***"
   ]
  },
  {
   "cell_type": "markdown",
   "id": "laughing-antibody",
   "metadata": {},
   "source": [
    "First the training and the test data are imported"
   ]
  },
  {
   "cell_type": "code",
   "execution_count": 2,
   "id": "august-editor",
   "metadata": {},
   "outputs": [],
   "source": [
    "# import training and test sets\n",
    "test_data = pd.read_csv('./regression_test.csv', header=None)\n",
    "train_data = pd.read_csv('./regression_train.csv', header=None)"
   ]
  },
  {
   "cell_type": "markdown",
   "id": "automated-belarus",
   "metadata": {},
   "source": [
    "We can check the structure of the dataset as below:"
   ]
  },
  {
   "cell_type": "code",
   "execution_count": 3,
   "id": "pregnant-oklahoma",
   "metadata": {},
   "outputs": [
    {
     "data": {
      "text/html": [
       "<div>\n",
       "<style scoped>\n",
       "    .dataframe tbody tr th:only-of-type {\n",
       "        vertical-align: middle;\n",
       "    }\n",
       "\n",
       "    .dataframe tbody tr th {\n",
       "        vertical-align: top;\n",
       "    }\n",
       "\n",
       "    .dataframe thead th {\n",
       "        text-align: right;\n",
       "    }\n",
       "</style>\n",
       "<table border=\"1\" class=\"dataframe\">\n",
       "  <thead>\n",
       "    <tr style=\"text-align: right;\">\n",
       "      <th></th>\n",
       "      <th>0</th>\n",
       "      <th>1</th>\n",
       "      <th>2</th>\n",
       "      <th>3</th>\n",
       "      <th>4</th>\n",
       "      <th>5</th>\n",
       "      <th>6</th>\n",
       "      <th>7</th>\n",
       "      <th>8</th>\n",
       "      <th>9</th>\n",
       "      <th>10</th>\n",
       "      <th>11</th>\n",
       "      <th>12</th>\n",
       "      <th>13</th>\n",
       "      <th>14</th>\n",
       "      <th>15</th>\n",
       "      <th>16</th>\n",
       "      <th>17</th>\n",
       "      <th>18</th>\n",
       "    </tr>\n",
       "  </thead>\n",
       "  <tbody>\n",
       "    <tr>\n",
       "      <th>0</th>\n",
       "      <td>1.0</td>\n",
       "      <td>-0.413447</td>\n",
       "      <td>-0.487722</td>\n",
       "      <td>0.115738</td>\n",
       "      <td>0.115735</td>\n",
       "      <td>0.158124</td>\n",
       "      <td>0.984960</td>\n",
       "      <td>0.797449</td>\n",
       "      <td>-0.773684</td>\n",
       "      <td>0.985161</td>\n",
       "      <td>-0.803212</td>\n",
       "      <td>1.176466</td>\n",
       "      <td>0.441052</td>\n",
       "      <td>-0.983048</td>\n",
       "      <td>0.158124</td>\n",
       "      <td>1.176469</td>\n",
       "      <td>-0.487723</td>\n",
       "      <td>-0.773598</td>\n",
       "      <td>23.9</td>\n",
       "    </tr>\n",
       "    <tr>\n",
       "      <th>1</th>\n",
       "      <td>1.0</td>\n",
       "      <td>-0.412788</td>\n",
       "      <td>-0.487722</td>\n",
       "      <td>-1.034027</td>\n",
       "      <td>-1.034035</td>\n",
       "      <td>-0.386091</td>\n",
       "      <td>0.819700</td>\n",
       "      <td>0.207144</td>\n",
       "      <td>-0.418203</td>\n",
       "      <td>0.819617</td>\n",
       "      <td>-0.666608</td>\n",
       "      <td>-0.857929</td>\n",
       "      <td>0.379323</td>\n",
       "      <td>-0.803625</td>\n",
       "      <td>-0.386091</td>\n",
       "      <td>-0.857939</td>\n",
       "      <td>-0.487723</td>\n",
       "      <td>-0.418305</td>\n",
       "      <td>29.9</td>\n",
       "    </tr>\n",
       "    <tr>\n",
       "      <th>2</th>\n",
       "      <td>1.0</td>\n",
       "      <td>-0.387983</td>\n",
       "      <td>-0.487722</td>\n",
       "      <td>-0.211099</td>\n",
       "      <td>-0.211084</td>\n",
       "      <td>0.261784</td>\n",
       "      <td>-0.510932</td>\n",
       "      <td>-0.923682</td>\n",
       "      <td>-0.671859</td>\n",
       "      <td>-0.511320</td>\n",
       "      <td>-0.102376</td>\n",
       "      <td>0.344213</td>\n",
       "      <td>0.441052</td>\n",
       "      <td>0.131334</td>\n",
       "      <td>0.261784</td>\n",
       "      <td>0.344218</td>\n",
       "      <td>-0.487727</td>\n",
       "      <td>-0.671863</td>\n",
       "      <td>24.5</td>\n",
       "    </tr>\n",
       "    <tr>\n",
       "      <th>3</th>\n",
       "      <td>1.0</td>\n",
       "      <td>-0.347952</td>\n",
       "      <td>-0.487722</td>\n",
       "      <td>-0.720322</td>\n",
       "      <td>-0.720323</td>\n",
       "      <td>-0.412006</td>\n",
       "      <td>0.846768</td>\n",
       "      <td>0.324494</td>\n",
       "      <td>-0.248591</td>\n",
       "      <td>0.846699</td>\n",
       "      <td>-0.601276</td>\n",
       "      <td>-0.488039</td>\n",
       "      <td>0.369674</td>\n",
       "      <td>-0.381702</td>\n",
       "      <td>-0.412006</td>\n",
       "      <td>-0.488023</td>\n",
       "      <td>-0.487722</td>\n",
       "      <td>-0.248524</td>\n",
       "      <td>27.5</td>\n",
       "    </tr>\n",
       "    <tr>\n",
       "      <th>4</th>\n",
       "      <td>1.0</td>\n",
       "      <td>-0.330562</td>\n",
       "      <td>-0.487722</td>\n",
       "      <td>-0.437258</td>\n",
       "      <td>-0.437249</td>\n",
       "      <td>-0.144217</td>\n",
       "      <td>0.299699</td>\n",
       "      <td>0.918355</td>\n",
       "      <td>0.313581</td>\n",
       "      <td>0.299802</td>\n",
       "      <td>-0.601276</td>\n",
       "      <td>1.176466</td>\n",
       "      <td>0.342811</td>\n",
       "      <td>0.020597</td>\n",
       "      <td>-0.144217</td>\n",
       "      <td>1.176460</td>\n",
       "      <td>-0.487724</td>\n",
       "      <td>0.313542</td>\n",
       "      <td>18.4</td>\n",
       "    </tr>\n",
       "  </tbody>\n",
       "</table>\n",
       "</div>"
      ],
      "text/plain": [
       "    0         1         2         3         4         5         6         7   \\\n",
       "0  1.0 -0.413447 -0.487722  0.115738  0.115735  0.158124  0.984960  0.797449   \n",
       "1  1.0 -0.412788 -0.487722 -1.034027 -1.034035 -0.386091  0.819700  0.207144   \n",
       "2  1.0 -0.387983 -0.487722 -0.211099 -0.211084  0.261784 -0.510932 -0.923682   \n",
       "3  1.0 -0.347952 -0.487722 -0.720322 -0.720323 -0.412006  0.846768  0.324494   \n",
       "4  1.0 -0.330562 -0.487722 -0.437258 -0.437249 -0.144217  0.299699  0.918355   \n",
       "\n",
       "         8         9         10        11        12        13        14  \\\n",
       "0 -0.773684  0.985161 -0.803212  1.176466  0.441052 -0.983048  0.158124   \n",
       "1 -0.418203  0.819617 -0.666608 -0.857929  0.379323 -0.803625 -0.386091   \n",
       "2 -0.671859 -0.511320 -0.102376  0.344213  0.441052  0.131334  0.261784   \n",
       "3 -0.248591  0.846699 -0.601276 -0.488039  0.369674 -0.381702 -0.412006   \n",
       "4  0.313581  0.299802 -0.601276  1.176466  0.342811  0.020597 -0.144217   \n",
       "\n",
       "         15        16        17    18  \n",
       "0  1.176469 -0.487723 -0.773598  23.9  \n",
       "1 -0.857939 -0.487723 -0.418305  29.9  \n",
       "2  0.344218 -0.487727 -0.671863  24.5  \n",
       "3 -0.488023 -0.487722 -0.248524  27.5  \n",
       "4  1.176460 -0.487724  0.313542  18.4  "
      ]
     },
     "execution_count": 3,
     "metadata": {},
     "output_type": "execute_result"
    }
   ],
   "source": [
    "train_data.head()"
   ]
  },
  {
   "cell_type": "markdown",
   "id": "unable-hungarian",
   "metadata": {},
   "source": [
    "Firstly we note that there is already a column of ones for the intercept term in linear regression."
   ]
  },
  {
   "cell_type": "markdown",
   "id": "logical-scanning",
   "metadata": {},
   "source": [
    "Usually, we make a decision on whether and how to standardise the data here.\n",
    "However by checking the full data (both training and test together), we see that it is already standardised:"
   ]
  },
  {
   "cell_type": "code",
   "execution_count": 4,
   "id": "comparative-letters",
   "metadata": {},
   "outputs": [
    {
     "name": "stdout",
     "output_type": "stream",
     "text": [
      "[ 1. -0.  0. -0.  0.  0. -0. -0.  0. -0. -0. -0.  0. -0.  0. -0. -0.  0.]\n",
      "[0. 1. 1. 1. 1. 1. 1. 1. 1. 1. 1. 1. 1. 1. 1. 1. 1. 1.]\n"
     ]
    }
   ],
   "source": [
    "# NB our data is already standardised\n",
    "full_data = pd.concat([test_data, train_data])\n",
    "full_X = np.array(full_data.iloc[:,:-1])\n",
    "print(np.mean(full_X, 0).round(decimals=3))\n",
    "print(np.std(full_X, 0))"
   ]
  },
  {
   "cell_type": "markdown",
   "id": "continued-weather",
   "metadata": {},
   "source": [
    "Thus, except in the case where the column is all ones, the mean of each column is 0 and the standard deviation is 1."
   ]
  },
  {
   "cell_type": "markdown",
   "id": "intended-airline",
   "metadata": {},
   "source": [
    "Next we separate the data sets in terms of the X and the Y datasets:"
   ]
  },
  {
   "cell_type": "code",
   "execution_count": 5,
   "id": "welcome-marketplace",
   "metadata": {},
   "outputs": [],
   "source": [
    "X_train = np.array(train_data.iloc[:,:-1])\n",
    "Y_train = np.array(train_data.iloc()[:,-1])\n",
    "\n",
    "X_test = np.array(test_data.iloc[:,:-1])\n",
    "Y_test = np.array(test_data.iloc()[:,-1])"
   ]
  },
  {
   "cell_type": "markdown",
   "id": "vertical-meditation",
   "metadata": {},
   "source": [
    "As we have explored maximum likelihood estimation in lectures, I will apply the same method for this regression problem.\n",
    "\n",
    "In particular we wish to obtain the parameters  $\\boldsymbol\\beta^{\\mathrm{ML}}$ that maximize the likelihood\n",
    "$$\n",
    "p(\\mathcal Y | \\mathcal X, \\boldsymbol\\beta) = \\prod_{n=1}^N p(y_n | \\boldsymbol x_n, \\boldsymbol\\beta)\\,.\n",
    "$$\n",
    "\n",
    "And once we have that we can can compute the maximum likelihood estimate using the formula:\n",
    "$$\n",
    "\\boldsymbol\\beta^{\\text{ML}} = (\\boldsymbol X^T\\boldsymbol X)^{-1}\\boldsymbol X^T\\boldsymbol y \\, .\n",
    "$$\n"
   ]
  },
  {
   "cell_type": "code",
   "execution_count": 6,
   "id": "improving-zoning",
   "metadata": {},
   "outputs": [],
   "source": [
    "# Function to compute the MLE given X and y\n",
    "def max_lik_estimate(X, y):\n",
    "    # X: N x D matrix of training inputs\n",
    "    # y: N x 1 vector of training targets/observations\n",
    "    # returns: maximum likelihood parameters (D x 1)\n",
    "    N, D = X.shape\n",
    "    \n",
    "    beta_ml = np.linalg.solve(X.T @ X, X.T @ y)\n",
    "    return beta_ml"
   ]
  },
  {
   "cell_type": "markdown",
   "id": "pharmaceutical-concept",
   "metadata": {},
   "source": [
    "Next we have a function that outputs the predicted values given some test data and the beta parameters of the model."
   ]
  },
  {
   "cell_type": "code",
   "execution_count": 7,
   "id": "negative-peeing",
   "metadata": {},
   "outputs": [],
   "source": [
    "def predict_with_estimate(X_test, beta):\n",
    "    # X_test: K x D matrix of test inputs\n",
    "    # beta: D x 1 vector of parameters\n",
    "    # returns: prediction of f(X_test); K x 1 vector\n",
    "    \n",
    "    prediction = X_test @ beta\n",
    "    \n",
    "    return prediction "
   ]
  },
  {
   "cell_type": "markdown",
   "id": "searching-correction",
   "metadata": {},
   "source": [
    "The parameters of this particular model are obtained below:"
   ]
  },
  {
   "cell_type": "code",
   "execution_count": 8,
   "id": "distinguished-arkansas",
   "metadata": {},
   "outputs": [
    {
     "name": "stdout",
     "output_type": "stream",
     "text": [
      "[ 2.25206705e+01 -6.23509421e-01  5.07191271e+03 -3.55100636e+04\n",
      "  3.55098886e+04  1.39496495e+09  9.79427526e+02 -1.64223172e-01\n",
      "  1.20208274e+03 -9.76305983e+02 -5.01509709e-02 -6.12934767e+03\n",
      "  7.48646362e-01 -3.71494965e+00 -1.39496496e+09  6.12761154e+03\n",
      " -5.07077881e+03 -1.20558061e+03]\n"
     ]
    }
   ],
   "source": [
    "beta_ml = max_lik_estimate(X_train,Y_train)\n",
    "print(beta_ml)"
   ]
  },
  {
   "cell_type": "markdown",
   "id": "surgical-server",
   "metadata": {},
   "source": [
    "Next the in-sample MSE is calculated below:"
   ]
  },
  {
   "cell_type": "code",
   "execution_count": 9,
   "id": "british-hawaiian",
   "metadata": {},
   "outputs": [
    {
     "name": "stdout",
     "output_type": "stream",
     "text": [
      "In sample MSE    : 24.38006444485437\n"
     ]
    }
   ],
   "source": [
    "# in sample MSE\n",
    "train_preds = predict_with_estimate(X_train, beta_ml)\n",
    "MSE_train = np.mean((Y_train - train_preds) ** 2)\n",
    "print(\"In sample MSE    : \" + str(MSE_train))"
   ]
  },
  {
   "cell_type": "markdown",
   "id": "academic-inventory",
   "metadata": {},
   "source": [
    "#### Question 1.1.2\n",
    "***"
   ]
  },
  {
   "cell_type": "markdown",
   "id": "dental-shelter",
   "metadata": {},
   "source": [
    "We then use the model on the test data and obtain a prediction which is used to compute the out-of-sample MSE."
   ]
  },
  {
   "cell_type": "code",
   "execution_count": 10,
   "id": "continuing-monster",
   "metadata": {},
   "outputs": [
    {
     "name": "stdout",
     "output_type": "stream",
     "text": [
      "Out of sample MSE: 19.525828624573784\n"
     ]
    }
   ],
   "source": [
    "# out of sample MSE\n",
    "test_preds = predict_with_estimate(X_test, beta_ml)\n",
    "MSE_test = np.mean((Y_test - test_preds) ** 2)\n",
    "print(\"Out of sample MSE: \" + str(MSE_test))"
   ]
  },
  {
   "cell_type": "markdown",
   "id": "robust-dating",
   "metadata": {},
   "source": [
    "We observe the the out-of-sample MSE seems to be lower than the in-sample MSE.\n",
    "Initially we might think this is strange as the model was trained using in-sample data, but performs better on the out-of-sample data.\n",
    "\n",
    "However this can be explained by the fact that there could be outliers in the training set causing the MSE to be higher. Furthermore, as the training set is assumed to be one random sample from the available data, this could just be a case where the sample is not representative of the whole dataset."
   ]
  },
  {
   "cell_type": "markdown",
   "id": "chubby-improvement",
   "metadata": {},
   "source": [
    "### 1.2 Ridge Regression\n",
    "***\n",
    "\n",
    "#### Question 1.2.1\n",
    "***"
   ]
  },
  {
   "cell_type": "markdown",
   "id": "fatal-pacific",
   "metadata": {},
   "source": [
    "Next we implement a ridge regression model, which is similar to linear regression, however we add a penalty term  $\\lambda$.\n",
    "\n",
    "So in the least squares sense of linear regression, the loss function is:\n",
    "\n",
    "$$\n",
    "\\underset{\\boldsymbol\\beta}{\\text{min}} \\ \\text{L}_{\\text{ridge}} (\\boldsymbol\\beta) = \\underset{\\boldsymbol\\beta}{\\text{min}} \\| \\mathcal Y - \\mathcal X \\boldsymbol\\beta \\|^2 + \\lambda \\| \\boldsymbol\\beta \\|^2 \n",
    "$$\n",
    "\n",
    "and the beta parameters we obtain is given by the formula:\n",
    "\n",
    "$$\n",
    "\\boldsymbol\\beta^{*}_{\\text{ridge}} = (\\boldsymbol X^T\\boldsymbol X + \\lambda I)^{-1}\\boldsymbol X^T\\boldsymbol y \\, .\n",
    "$$"
   ]
  },
  {
   "cell_type": "markdown",
   "id": "usual-apple",
   "metadata": {},
   "source": [
    "First we have a function to compute and return the beta parameters for ridge regression."
   ]
  },
  {
   "cell_type": "code",
   "execution_count": 11,
   "id": "australian-venice",
   "metadata": {},
   "outputs": [],
   "source": [
    "def ridge_estimate(X, y, penalty):\n",
    "    # X: N x D matrix of training inputs\n",
    "    # y: N x 1 vector of training targets/observations\n",
    "    # returns: maximum likelihood parameters (D x 1)\n",
    "    \n",
    "    N, D = X.shape\n",
    "    I = np.identity(D)\n",
    "    beta_ridge = np.linalg.solve(X.T @ X + penalty * I, X.T @ y)\n",
    "    return beta_ridge"
   ]
  },
  {
   "cell_type": "markdown",
   "id": "increasing-legislation",
   "metadata": {},
   "source": [
    "As our aim is to perform cross-validation, next we have a function to randomly split a given dataset into the given number of folds as required."
   ]
  },
  {
   "cell_type": "code",
   "execution_count": 12,
   "id": "theoretical-seven",
   "metadata": {},
   "outputs": [],
   "source": [
    "def cross_val_split(data, num_folds):\n",
    "  fold_size = int(len(data) / num_folds)\n",
    "  data_perm = np.random.permutation(data)\n",
    "  folds = []\n",
    "  for k in range(num_folds):\n",
    "    folds.append(data_perm[k*fold_size:(k+1)*fold_size, :])\n",
    "\n",
    "  return folds"
   ]
  },
  {
   "cell_type": "markdown",
   "id": "coupled-ecuador",
   "metadata": {},
   "source": [
    "Next we aggregate the X and Y data into one array, so they can be used for cross validation.\n",
    "And we generate the folds which are stored in a dictionary."
   ]
  },
  {
   "cell_type": "code",
   "execution_count": 13,
   "id": "systematic-richards",
   "metadata": {},
   "outputs": [],
   "source": [
    "train = np.hstack((X_train, Y_train[:, np.newaxis]))\n",
    "\n",
    "# Generate the folds\n",
    "folds = cross_val_split(train, 5)"
   ]
  },
  {
   "cell_type": "markdown",
   "id": "clean-bidding",
   "metadata": {},
   "source": [
    "In order to scan the optimal $\\lambda$ term, we create a vector of different possible lambdas from 0 to 100"
   ]
  },
  {
   "cell_type": "code",
   "execution_count": 14,
   "id": "reverse-bridges",
   "metadata": {},
   "outputs": [],
   "source": [
    "lambda_vec = np.linspace(0, 100, num=1001)"
   ]
  },
  {
   "cell_type": "markdown",
   "id": "exclusive-employment",
   "metadata": {},
   "source": [
    "Finally, we create a function that has one loop through the set of folds and another loop over the vector of lambdas, and applies ridge ression to every possible combination of these.\n",
    "\n",
    "The training and validation MSEs are also computed in the function and they are stored in dictionaries which are returned at the end of the function."
   ]
  },
  {
   "cell_type": "code",
   "execution_count": 15,
   "id": "instrumental-lightning",
   "metadata": {},
   "outputs": [],
   "source": [
    "def cross_val_evaluate_ridge(folds, lambda_vec):\n",
    "    # create dictionaries\n",
    "    train_MSE = {1:[], 2:[], 3:[], 4:[], 5:[]}\n",
    "    val_MSE = {1:[], 2:[], 3:[], 4:[], 5:[]}\n",
    "\n",
    "    for i in range(len(folds)):\n",
    "        print('Fold', i+1)\n",
    "        # define the training set (i.e. selecting all folds and deleting the one used for validation)\n",
    "        train_set = np.delete(np.asarray(folds).reshape(len(folds), folds[0].shape[0], folds[0].shape[1]), i, axis=0)\n",
    "        train_folds = train_set.reshape(len(train_set)*train_set[0].shape[0], train_set[0].shape[1])\n",
    "        X_train = train_folds[:,:-1]\n",
    "        y_train = train_folds[:, -1]\n",
    "        \n",
    "        # define the validation set\n",
    "        val_fold = folds[i]\n",
    "        X_val = val_fold[:,:-1]\n",
    "        y_val = val_fold[:, -1]\n",
    "    \n",
    "        # train the model and obtain the parameters for each lambda\n",
    "        for pen in lambda_vec:\n",
    "            \n",
    "            beta_ridge = ridge_estimate(X_train, y_train, penalty=pen)\n",
    "            \n",
    "            # evaluate\n",
    "            # training data MSE\n",
    "            train_preds_ridge = predict_with_estimate(X_train, beta_ridge)\n",
    "            MSE_train_ridge = np.mean((y_train - train_preds_ridge) ** 2)\n",
    "            \n",
    "            # validation data MSE\n",
    "            test_preds_ridge = predict_with_estimate(X_val, beta_ridge)\n",
    "            MSE_val_ridge = np.mean((y_val - test_preds_ridge) ** 2)\n",
    "            \n",
    "            # store these in the appropriate dictionaries\n",
    "            train_MSE[i+1].append(MSE_train_ridge)\n",
    "            val_MSE[i+1].append(MSE_val_ridge)\n",
    "    \n",
    "    print(\"Training finished.\")\n",
    "    return train_MSE, val_MSE"
   ]
  },
  {
   "cell_type": "markdown",
   "id": "regulated-magic",
   "metadata": {},
   "source": [
    "We then call and run the function using our folds and lambda vector"
   ]
  },
  {
   "cell_type": "code",
   "execution_count": 16,
   "id": "psychological-transition",
   "metadata": {},
   "outputs": [
    {
     "name": "stdout",
     "output_type": "stream",
     "text": [
      "Fold 1\n",
      "Fold 2\n",
      "Fold 3\n",
      "Fold 4\n",
      "Fold 5\n",
      "Training finished.\n"
     ]
    }
   ],
   "source": [
    "train_MSE, val_MSE = cross_val_evaluate_ridge(folds, lambda_vec)"
   ]
  },
  {
   "cell_type": "markdown",
   "id": "urban-pastor",
   "metadata": {},
   "source": [
    "Next, we consider a particular fold, in this case fold 1.\n",
    "And we plot the MSE errors obtained against the different penalty terms:"
   ]
  },
  {
   "cell_type": "code",
   "execution_count": 17,
   "id": "tender-amplifier",
   "metadata": {},
   "outputs": [
    {
     "data": {
      "image/png": "[encoded data removed]",
      "text/plain": [
       "<Figure size 432x288 with 1 Axes>"
      ]
     },
     "metadata": {
      "needs_background": "light"
     },
     "output_type": "display_data"
    },
    {
     "name": "stdout",
     "output_type": "stream",
     "text": [
      "Optimal λ for Fold 1 is 3.9000000000000004\n"
     ]
    }
   ],
   "source": [
    "plt.title(\"Plot of MSE errors for over different penalty terms for Ridge Regression [Fold 1]\")\n",
    "plt.plot(lambda_vec, train_MSE[1], label = \"Training Errors\")\n",
    "plt.plot(lambda_vec, val_MSE[1], label = \"Validation Errors\")\n",
    "plt.legend()\n",
    "plt.grid()\n",
    "plt.xlabel(\"$\\lambda$\")\n",
    "plt.ylabel(\"MSE\")\n",
    "plt.show()\n",
    "print(\"Optimal λ for Fold 1 is \" + str(lambda_vec[np.argmin(val_MSE[1])]))"
   ]
  },
  {
   "cell_type": "markdown",
   "id": "ruled-hybrid",
   "metadata": {},
   "source": [
    "Note that the optimal $\\lambda$ for each fold is obtained by taking the index of the minimum of the validation MSE, and using that index to find the corresponding lambda.\n",
    "\n",
    "This is done for each of the five folds:"
   ]
  },
  {
   "cell_type": "code",
   "execution_count": 18,
   "id": "widespread-denial",
   "metadata": {},
   "outputs": [
    {
     "name": "stdout",
     "output_type": "stream",
     "text": [
      "Optimal λ for Fold 1 is 3.9000000000000004\n",
      "Optimal λ for Fold 2 is 0.1\n",
      "Optimal λ for Fold 3 is 13.3\n",
      "Optimal λ for Fold 4 is 17.0\n",
      "Optimal λ for Fold 5 is 0.1\n"
     ]
    }
   ],
   "source": [
    "# The optimal lambdas for for each fold obtained using argmin\n",
    "for i in range(0,5):\n",
    "    print(\"Optimal λ for Fold \" + str(i+1) + \" is \" + str(lambda_vec[np.argmin(val_MSE[i+1])]))"
   ]
  },
  {
   "cell_type": "markdown",
   "id": "aquatic-reform",
   "metadata": {},
   "source": [
    "#### Question 1.2.2\n",
    "***"
   ]
  },
  {
   "cell_type": "markdown",
   "id": "facial-basics",
   "metadata": {},
   "source": [
    "In order to compute the average in-sample and out-of-sample MSEs, we first need to obtain the optimal $\\lambda$ out of all the folds.\n",
    "\n",
    "This is done by computing the average validation MSE over all the folds for each $\\lambda$, and then finding the minimum over this:"
   ]
  },
  {
   "cell_type": "code",
   "execution_count": 19,
   "id": "necessary-cancer",
   "metadata": {},
   "outputs": [
    {
     "name": "stdout",
     "output_type": "stream",
     "text": [
      "The optimal lambda is: 1.3\n"
     ]
    }
   ],
   "source": [
    "# Compute the average validation MSE over the folds, to get average for each penalty term\n",
    "average_val_MSE = np.mean([val_MSE[fold] for fold in range(1, 6)], axis = 0)\n",
    "optimal_lambda = lambda_vec[np.argmin(average_val_MSE)]\n",
    "print(\"The optimal lambda is: \" + str(optimal_lambda))"
   ]
  },
  {
   "cell_type": "markdown",
   "id": "raised-review",
   "metadata": {},
   "source": [
    "We then train the model over the whole of the training data using this optimal lambda parameter."
   ]
  },
  {
   "cell_type": "code",
   "execution_count": 20,
   "id": "matched-barcelona",
   "metadata": {},
   "outputs": [],
   "source": [
    "beta_ridge = ridge_estimate(X_train, Y_train, penalty=optimal_lambda)"
   ]
  },
  {
   "cell_type": "markdown",
   "id": "acoustic-terrorism",
   "metadata": {},
   "source": [
    "The resulting MSEs are obtained below:"
   ]
  },
  {
   "cell_type": "code",
   "execution_count": 21,
   "id": "horizontal-blink",
   "metadata": {},
   "outputs": [
    {
     "name": "stdout",
     "output_type": "stream",
     "text": [
      "Ridge - In sample error    : 24.559828320867624\n",
      "Ridge - Out of sample error: 19.360934376274972\n"
     ]
    }
   ],
   "source": [
    "# in sample MSE\n",
    "train_preds_ridge = predict_with_estimate(X_train, beta_ridge)\n",
    "MSE_train_ridge = np.mean((Y_train - train_preds_ridge) ** 2)\n",
    "\n",
    "# out of sample MSE\n",
    "test_preds_ridge = predict_with_estimate(X_test, beta_ridge)\n",
    "MSE_test_ridge = np.mean((Y_test - test_preds_ridge) ** 2)\n",
    "\n",
    "print(\"Ridge - In sample error    : \" + str(MSE_train_ridge))\n",
    "print(\"Ridge - Out of sample error: \" + str(MSE_test_ridge))"
   ]
  },
  {
   "cell_type": "markdown",
   "id": "accomplished-python",
   "metadata": {},
   "source": [
    "For comparsion, the MSEs obtained via linear regression are as below:"
   ]
  },
  {
   "cell_type": "code",
   "execution_count": 22,
   "id": "forward-genealogy",
   "metadata": {},
   "outputs": [
    {
     "name": "stdout",
     "output_type": "stream",
     "text": [
      "Linear Regression - In sample error    : 24.38006444485437\n",
      "Linear Regression - Out of sample error: 19.525828624573784\n"
     ]
    }
   ],
   "source": [
    "print(\"Linear Regression - In sample error    : \" + str(MSE_train))\n",
    "print(\"Linear Regression - Out of sample error: \" + str(MSE_test))"
   ]
  },
  {
   "cell_type": "markdown",
   "id": "micro-round",
   "metadata": {},
   "source": [
    "Thus we can see that both the methods produce very similar results, with the ridge regression obtaining slightly out-of-sample MSE (which is the target we are interested in)."
   ]
  },
  {
   "cell_type": "markdown",
   "id": "contained-spiritual",
   "metadata": {},
   "source": [
    "The ridge regression model has a penalty term whose effect is to try and keep the coefficients small, and the benefit of this is that there can be lower variance in the model.  "
   ]
  },
  {
   "cell_type": "markdown",
   "id": "genuine-fiber",
   "metadata": {},
   "source": [
    "We do indeed observer that the the coefficients (the beta vector for ridge) are smaller:"
   ]
  },
  {
   "cell_type": "code",
   "execution_count": 23,
   "id": "signed-cookbook",
   "metadata": {},
   "outputs": [
    {
     "data": {
      "text/html": [
       "<div>\n",
       "<style scoped>\n",
       "    .dataframe tbody tr th:only-of-type {\n",
       "        vertical-align: middle;\n",
       "    }\n",
       "\n",
       "    .dataframe tbody tr th {\n",
       "        vertical-align: top;\n",
       "    }\n",
       "\n",
       "    .dataframe thead th {\n",
       "        text-align: right;\n",
       "    }\n",
       "</style>\n",
       "<table border=\"1\" class=\"dataframe\">\n",
       "  <thead>\n",
       "    <tr style=\"text-align: right;\">\n",
       "      <th></th>\n",
       "      <th>Linear Regression Parameters</th>\n",
       "      <th>Ridge Regression Parameters</th>\n",
       "      <th>Absolute Difference in Parameters</th>\n",
       "    </tr>\n",
       "  </thead>\n",
       "  <tbody>\n",
       "    <tr>\n",
       "      <th>β_0</th>\n",
       "      <td>22.521</td>\n",
       "      <td>22.455</td>\n",
       "      <td>0.065</td>\n",
       "    </tr>\n",
       "    <tr>\n",
       "      <th>β_1</th>\n",
       "      <td>-0.624</td>\n",
       "      <td>-0.636</td>\n",
       "      <td>0.012</td>\n",
       "    </tr>\n",
       "    <tr>\n",
       "      <th>β_2</th>\n",
       "      <td>5071.913</td>\n",
       "      <td>0.572</td>\n",
       "      <td>5071.34</td>\n",
       "    </tr>\n",
       "    <tr>\n",
       "      <th>β_3</th>\n",
       "      <td>-35510.064</td>\n",
       "      <td>-0.1</td>\n",
       "      <td>35509.963</td>\n",
       "    </tr>\n",
       "    <tr>\n",
       "      <th>β_4</th>\n",
       "      <td>35509.889</td>\n",
       "      <td>-0.1</td>\n",
       "      <td>35509.988</td>\n",
       "    </tr>\n",
       "    <tr>\n",
       "      <th>β_5</th>\n",
       "      <td>1394964953.358</td>\n",
       "      <td>-0.84</td>\n",
       "      <td>1394964954.198</td>\n",
       "    </tr>\n",
       "    <tr>\n",
       "      <th>β_6</th>\n",
       "      <td>979.428</td>\n",
       "      <td>1.585</td>\n",
       "      <td>977.842</td>\n",
       "    </tr>\n",
       "    <tr>\n",
       "      <th>β_7</th>\n",
       "      <td>-0.164</td>\n",
       "      <td>-0.148</td>\n",
       "      <td>0.017</td>\n",
       "    </tr>\n",
       "    <tr>\n",
       "      <th>β_8</th>\n",
       "      <td>1202.083</td>\n",
       "      <td>-1.732</td>\n",
       "      <td>1203.814</td>\n",
       "    </tr>\n",
       "    <tr>\n",
       "      <th>β_9</th>\n",
       "      <td>-976.306</td>\n",
       "      <td>1.56</td>\n",
       "      <td>977.866</td>\n",
       "    </tr>\n",
       "    <tr>\n",
       "      <th>β_10</th>\n",
       "      <td>-0.05</td>\n",
       "      <td>-0.092</td>\n",
       "      <td>0.042</td>\n",
       "    </tr>\n",
       "    <tr>\n",
       "      <th>β_11</th>\n",
       "      <td>-6129.348</td>\n",
       "      <td>-0.872</td>\n",
       "      <td>6128.475</td>\n",
       "    </tr>\n",
       "    <tr>\n",
       "      <th>β_12</th>\n",
       "      <td>0.749</td>\n",
       "      <td>0.82</td>\n",
       "      <td>0.071</td>\n",
       "    </tr>\n",
       "    <tr>\n",
       "      <th>β_13</th>\n",
       "      <td>-3.715</td>\n",
       "      <td>-3.634</td>\n",
       "      <td>0.081</td>\n",
       "    </tr>\n",
       "    <tr>\n",
       "      <th>β_14</th>\n",
       "      <td>-1394964955.129</td>\n",
       "      <td>-0.84</td>\n",
       "      <td>1394964954.289</td>\n",
       "    </tr>\n",
       "    <tr>\n",
       "      <th>β_15</th>\n",
       "      <td>6127.612</td>\n",
       "      <td>-0.872</td>\n",
       "      <td>6128.483</td>\n",
       "    </tr>\n",
       "    <tr>\n",
       "      <th>β_16</th>\n",
       "      <td>-5070.779</td>\n",
       "      <td>0.572</td>\n",
       "      <td>5071.351</td>\n",
       "    </tr>\n",
       "    <tr>\n",
       "      <th>β_17</th>\n",
       "      <td>-1205.581</td>\n",
       "      <td>-1.733</td>\n",
       "      <td>1203.847</td>\n",
       "    </tr>\n",
       "  </tbody>\n",
       "</table>\n",
       "</div>"
      ],
      "text/plain": [
       "      Linear Regression Parameters  Ridge Regression Parameters  \\\n",
       "β_0                         22.521                       22.455   \n",
       "β_1                         -0.624                       -0.636   \n",
       "β_2                       5071.913                        0.572   \n",
       "β_3                     -35510.064                         -0.1   \n",
       "β_4                      35509.889                         -0.1   \n",
       "β_5                 1394964953.358                        -0.84   \n",
       "β_6                        979.428                        1.585   \n",
       "β_7                         -0.164                       -0.148   \n",
       "β_8                       1202.083                       -1.732   \n",
       "β_9                       -976.306                         1.56   \n",
       "β_10                         -0.05                       -0.092   \n",
       "β_11                     -6129.348                       -0.872   \n",
       "β_12                         0.749                         0.82   \n",
       "β_13                        -3.715                       -3.634   \n",
       "β_14               -1394964955.129                        -0.84   \n",
       "β_15                      6127.612                       -0.872   \n",
       "β_16                     -5070.779                        0.572   \n",
       "β_17                     -1205.581                       -1.733   \n",
       "\n",
       "      Absolute Difference in Parameters  \n",
       "β_0                               0.065  \n",
       "β_1                               0.012  \n",
       "β_2                             5071.34  \n",
       "β_3                           35509.963  \n",
       "β_4                           35509.988  \n",
       "β_5                      1394964954.198  \n",
       "β_6                             977.842  \n",
       "β_7                               0.017  \n",
       "β_8                            1203.814  \n",
       "β_9                             977.866  \n",
       "β_10                              0.042  \n",
       "β_11                           6128.475  \n",
       "β_12                              0.071  \n",
       "β_13                              0.081  \n",
       "β_14                     1394964954.289  \n",
       "β_15                           6128.483  \n",
       "β_16                           5071.351  \n",
       "β_17                           1203.847  "
      ]
     },
     "execution_count": 23,
     "metadata": {},
     "output_type": "execute_result"
    }
   ],
   "source": [
    "# Differences observed in parameters\n",
    "abs_diff_beta = np.abs(beta_ml - beta_ridge)\n",
    "\n",
    "df_beta_parameters = pd.DataFrame(columns=['Linear Regression Parameters', \n",
    "                                           'Ridge Regression Parameters',\n",
    "                                           'Absolute Difference in Parameters'],\n",
    "                                  index=[['β_%s' %i for i in range(18)]],\n",
    "                                  data = np.array([beta_ml, beta_ridge, abs_diff_beta]).T)\n",
    "\n",
    "pd.set_option('display.float_format', str)\n",
    "\n",
    "df_beta_parameters.round(3)"
   ]
  },
  {
   "cell_type": "markdown",
   "id": "ready-grounds",
   "metadata": {},
   "source": [
    "In particular, ridge regression is advantageous in the cases where many predictors are collinear with eachother, however if this is not the case then ridge may not provide any significant advantage."
   ]
  },
  {
   "cell_type": "markdown",
   "id": "apart-field",
   "metadata": {},
   "source": [
    "We can investigate this collinearity using a correlation matrix:"
   ]
  },
  {
   "cell_type": "code",
   "execution_count": 24,
   "id": "random-master",
   "metadata": {},
   "outputs": [
    {
     "data": {
      "image/png": "[encoded data removed]",
      "text/plain": [
       "<Figure size 432x288 with 2 Axes>"
      ]
     },
     "metadata": {
      "needs_background": "light"
     },
     "output_type": "display_data"
    }
   ],
   "source": [
    "# Correlation Matrix\n",
    "corr_mat = pd.DataFrame(X_train).corr()\n",
    "sns.heatmap(np.array(corr_mat)[1:, 1:])\n",
    "plt.show()"
   ]
  },
  {
   "cell_type": "markdown",
   "id": "signed-fellowship",
   "metadata": {},
   "source": [
    "Here, the lighter squares correspond to precitors being very correlated.\n",
    "We have excluded the column of ones here, and we observe that apart from the diagonal, there only seem to be very few highly correlated predictors. For example on the diagram we can observe predictors 1 and 15 appear to be highly correlated.\n",
    "\n",
    "However the vast majority are much darker, suggesting that there is not a significant amount of collinearity present in general. And hence ridge regression can only provide a small advantage (as seen by the lower MSE)."
   ]
  },
  {
   "cell_type": "markdown",
   "id": "processed-nirvana",
   "metadata": {},
   "source": [
    "### 1.3 Regression with $k$ nearest neighbours ($knn$)\n",
    "***\n",
    "\n",
    "#### Question 1.3.1\n",
    "***"
   ]
  },
  {
   "cell_type": "markdown",
   "id": "bacterial-software",
   "metadata": {},
   "source": [
    "Firstly, we begin by making our knn algorithm.\n",
    "\n",
    "The k nearest neighbours algorithm works by computing the distances between a given test set and the samples from the training set. It then selects the $k$ nearest neighbours to each point in the test set, and in the case of regression, averages these values in the neighbourhood to form a prediciton."
   ]
  },
  {
   "cell_type": "code",
   "execution_count": 25,
   "id": "piano-perfume",
   "metadata": {},
   "outputs": [],
   "source": [
    "# distance function for kNN\n",
    "def euclidian_distance(p, q):\n",
    "    return np.sqrt(np.sum((q-p)**2, axis = 1))\n",
    "\n",
    "# function to find the k nearest neighbours in the training set given a test set\n",
    "def k_neighbours(X_train, X_test, k=5, return_distance=False):\n",
    "    dist = []\n",
    "    neigh_ind = []\n",
    "    \n",
    "    # compute distance from each point x_text in X_test to all points in X_train \n",
    "    point_dist =  [euclidian_distance(x_test, X_train) for x_test in X_test]\n",
    "    \n",
    "    # determine which k training points are closest to each test point\n",
    "    for row in point_dist:\n",
    "        enum_neigh = enumerate(row)\n",
    "        sorted_neigh = sorted(enum_neigh, key=lambda x: x[1])[:k]\n",
    "    \n",
    "        ind_list = [tup[0] for tup in sorted_neigh]\n",
    "        dist_list = [tup[1] for tup in sorted_neigh]\n",
    "    \n",
    "        dist.append(dist_list)\n",
    "        neigh_ind.append(ind_list)\n",
    "    \n",
    "    # return distances together with indices of k nearest neighbours\n",
    "    if return_distance:\n",
    "        return np.array(dist), np.array(neigh_ind)\n",
    "    \n",
    "    return np.array(neigh_ind)"
   ]
  },
  {
   "cell_type": "code",
   "execution_count": 26,
   "id": "amateur-overall",
   "metadata": {},
   "outputs": [],
   "source": [
    "# A function to predict the values of the test points.\n",
    "def reg_predict(X_train, Y_train, X_test, k):\n",
    "    # each of the k neighbours contributes equally to the classification of any data point in X_test  \n",
    "    neighbours = k_neighbours(X_train, X_test, k=k)\n",
    "    # compute mean over neighbours labels \n",
    "    Y_pred = np.array([np.mean(Y_train[neighbour]) for neighbour in neighbours])\n",
    "    return Y_pred"
   ]
  },
  {
   "cell_type": "markdown",
   "id": "broke-coordinator",
   "metadata": {},
   "source": [
    "Finally, we need a measure of how well the model predicts the y values.\n",
    "For this we use the $R^2$ score.\n",
    "\n",
    "$$\n",
    "R^2(y, \\hat{y}) = 1 - \\frac{\\sum_{i=1}^n (y_i - \\hat{y}_i)^2}{\\sum_{i=1}^n (y_i - \\bar{y})^2} \\, ,\n",
    "$$\n",
    "where $\\bar{y} = \\frac{1}{n} \\sum_{i=1}^n y_i$."
   ]
  },
  {
   "cell_type": "code",
   "execution_count": 27,
   "id": "hidden-boxing",
   "metadata": {},
   "outputs": [],
   "source": [
    "# Function that calculates the R2 score given the predictions and actual values\n",
    "def r2_score(y_test, y_pred):\n",
    "    numerator = np.sum((y_test - y_pred)**2)\n",
    "    y_avg = np.mean(y_test)\n",
    "    denominator = np.sum((y_test - y_avg)**2)\n",
    "    return 1 - numerator/denominator"
   ]
  },
  {
   "cell_type": "markdown",
   "id": "bound-jurisdiction",
   "metadata": {},
   "source": [
    "Again, in order to scan the optimal parameter term (in this case $k$), we create a vector of different possible values from 1 to 50"
   ]
  },
  {
   "cell_type": "code",
   "execution_count": 28,
   "id": "executive-place",
   "metadata": {},
   "outputs": [],
   "source": [
    "k_vec = np.arange(50)+1"
   ]
  },
  {
   "cell_type": "code",
   "execution_count": 29,
   "id": "authorized-heart",
   "metadata": {},
   "outputs": [],
   "source": [
    "def cross_val_evaluate_kNN(folds, k_vec):\n",
    "    \n",
    "    # create dictionaries\n",
    "    train_MSE = {1:[], 2:[], 3:[], 4:[], 5:[]}\n",
    "    val_MSE = {1:[], 2:[], 3:[], 4:[], 5:[]}\n",
    "\n",
    "    for i in range(len(folds)):\n",
    "      \n",
    "        print('Fold', i+1)\n",
    "        # define the training set (i.e. selecting all folds and deleting the one used for validation)\n",
    "        train_set = np.delete(np.asarray(folds).reshape(len(folds), folds[0].shape[0], folds[0].shape[1]), i, axis=0)\n",
    "        train_folds = train_set.reshape(len(train_set)*train_set[0].shape[0], train_set[0].shape[1])\n",
    "        X_train = train_folds[:,:-1]\n",
    "        y_train = train_folds[:, -1]\n",
    "        \n",
    "        # define the validation set\n",
    "        val_fold = folds[i]\n",
    "        X_val = val_fold[:,:-1]\n",
    "        y_val = val_fold[:, -1]\n",
    "    \n",
    "        # train the model and obtain the parameters for each k\n",
    "        for k_param in k_vec:                        \n",
    "            train_preds_kNN = reg_predict(X_train, y_train, X_train, k_param)\n",
    "            val_preds_kNN = reg_predict(X_train, y_train, X_val, k_param)\n",
    "            \n",
    "            # evaluate\n",
    "            # training data MSE\n",
    "            MSE_train_kNN = np.mean((y_train - train_preds_kNN) ** 2)\n",
    "            \n",
    "            # validation data MSE\n",
    "            MSE_val_kNN = np.mean((y_val - val_preds_kNN) ** 2)\n",
    "            \n",
    "            # store these in the appropriate dictionaries\n",
    "            train_MSE[i+1].append(MSE_train_kNN)\n",
    "            val_MSE[i+1].append(MSE_val_kNN)\n",
    "    \n",
    "   \n",
    "    print(\"Training finished.\")\n",
    "    return train_MSE, val_MSE"
   ]
  },
  {
   "cell_type": "markdown",
   "id": "certified-teddy",
   "metadata": {},
   "source": [
    "As before, we create a function that has one loop through the set of folds and another loop over the vector of $k$s, and applies the kNN model for wach combination\n",
    "\n",
    "The training and validation MSEs are also computed similarly and stored in dictionaries again:"
   ]
  },
  {
   "cell_type": "markdown",
   "id": "another-child",
   "metadata": {},
   "source": [
    "Perform the cross validation for each parameter value as required:"
   ]
  },
  {
   "cell_type": "code",
   "execution_count": 30,
   "id": "attended-springer",
   "metadata": {},
   "outputs": [
    {
     "name": "stdout",
     "output_type": "stream",
     "text": [
      "Fold 1\n",
      "Fold 2\n",
      "Fold 3\n",
      "Fold 4\n",
      "Fold 5\n",
      "Training finished.\n"
     ]
    }
   ],
   "source": [
    "train_MSE_kNN, val_MSE_kNN = cross_val_evaluate_kNN(folds, k_vec)"
   ]
  },
  {
   "cell_type": "markdown",
   "id": "expired-prague",
   "metadata": {},
   "source": [
    "Again, consider Fold 1 from our set of folds.\n",
    "We see in the function above that for this fold, a new model is created for each $k$, and the two MSEs are computed.\n",
    "These can then be plotted as below:"
   ]
  },
  {
   "cell_type": "code",
   "execution_count": 31,
   "id": "complete-double",
   "metadata": {},
   "outputs": [
    {
     "data": {
      "image/png": "[encoded data removed]",
      "text/plain": [
       "<Figure size 432x288 with 1 Axes>"
      ]
     },
     "metadata": {
      "needs_background": "light"
     },
     "output_type": "display_data"
    }
   ],
   "source": [
    "plt.title(\"Plot of MSE errors for over different k values for kNN [Fold 1]\")\n",
    "plt.plot(k_vec, train_MSE_kNN[1], label = \"Training Errors\")\n",
    "plt.plot(k_vec, val_MSE_kNN[1], label = \"Validation Errors\")\n",
    "plt.legend()\n",
    "plt.grid()\n",
    "plt.xlabel(\"k\")\n",
    "plt.ylabel(\"MSE\")\n",
    "plt.show()"
   ]
  },
  {
   "cell_type": "markdown",
   "id": "decreased-platform",
   "metadata": {},
   "source": [
    "From the plot we can see that the training MSE is a strictly increasing function of k, however for the validation error, there appears to be a minimum in the MSE between 0 and 10.\n",
    "\n",
    "We can obtain the optimal $k$ at which this happens using the \"argmin\" function as before:"
   ]
  },
  {
   "cell_type": "code",
   "execution_count": 32,
   "id": "crude-receiver",
   "metadata": {},
   "outputs": [
    {
     "name": "stdout",
     "output_type": "stream",
     "text": [
      "Optimal k for Fold 1 is 6\n"
     ]
    }
   ],
   "source": [
    "print(\"Optimal k for Fold 1 is \" + str(k_vec[np.argmin(val_MSE_kNN[1])]))"
   ]
  },
  {
   "cell_type": "markdown",
   "id": "later-switzerland",
   "metadata": {},
   "source": [
    "Similarly, the optimal parameter for each of the five folds are obtained below:"
   ]
  },
  {
   "cell_type": "code",
   "execution_count": 33,
   "id": "affecting-large",
   "metadata": {},
   "outputs": [
    {
     "name": "stdout",
     "output_type": "stream",
     "text": [
      "Optimal k for Fold 1 is 6\n",
      "Optimal k for Fold 2 is 2\n",
      "Optimal k for Fold 3 is 5\n",
      "Optimal k for Fold 4 is 4\n",
      "Optimal k for Fold 5 is 2\n"
     ]
    }
   ],
   "source": [
    "for i in range(0,5):\n",
    "    print(\"Optimal k for Fold \" + str(i+1) + \" is \" + str(k_vec[np.argmin(val_MSE_kNN[i+1])]))"
   ]
  },
  {
   "cell_type": "markdown",
   "id": "demonstrated-brother",
   "metadata": {},
   "source": [
    "In terms of the distribution of errors, it makes sense that there will be an optimal $k$ corresponding to a local minimum of the validation MSE. \n",
    "\n",
    "For very small $k$, we expect the model to perform very well for the training set (as each prediction has the actual value as one of the few neighbours), however it is also likely overfit to this set, and as a result it will not be generalisable to any new set (such as the validation set)\n",
    "\n",
    "In contrast, if $k$ is very large, then the model will no longer be very local as many neighbours will be selected for each point. Thus, this will no longer perform well for either the training or the validation set.\n",
    "\n",
    "And thus we expect there to be a minimum value of k that is small, but not small enough to overfit."
   ]
  },
  {
   "cell_type": "markdown",
   "id": "numerous-dallas",
   "metadata": {},
   "source": [
    "#### Question 1.3.1\n",
    "***"
   ]
  },
  {
   "cell_type": "markdown",
   "id": "third-ceremony",
   "metadata": {},
   "source": [
    "Next, we find the optimal value of k over all of the folds as follows:"
   ]
  },
  {
   "cell_type": "code",
   "execution_count": 40,
   "id": "included-fever",
   "metadata": {},
   "outputs": [
    {
     "name": "stdout",
     "output_type": "stream",
     "text": [
      "The optimal k overall is: 2\n"
     ]
    }
   ],
   "source": [
    "# Compute the average validation MSE over the folds, to get average for each penalty term\n",
    "average_val_MSE_kNN = np.mean([val_MSE_kNN[fold] for fold in range(1, 6)], axis = 0)\n",
    "optimal_k = k_vec[np.argmin(average_val_MSE_kNN)]\n",
    "print(\"The optimal k overall is: \" + str(optimal_k))"
   ]
  },
  {
   "cell_type": "markdown",
   "id": "returning-custom",
   "metadata": {},
   "source": [
    "We then use this to train the model over the whole training dataset using the optimal $k$, and then obtain the in-sample and out-of-sample MSEs using the training and the test data respectively:"
   ]
  },
  {
   "cell_type": "code",
   "execution_count": 42,
   "id": "yellow-happening",
   "metadata": {},
   "outputs": [
    {
     "name": "stdout",
     "output_type": "stream",
     "text": [
      "Cross-val kNN - In sample error        : 3.973725247524753\n",
      "Cross-val kNN - Out of sample error    : 13.935808823529408\n"
     ]
    }
   ],
   "source": [
    "# in sample MSE\n",
    "train_preds_kNN = reg_predict(X_train, Y_train, X_train, optimal_k)\n",
    "MSE_train_kNN = np.mean((Y_train - train_preds_kNN) ** 2)\n",
    "\n",
    "# out of sample MSE\n",
    "test_preds_kNN = reg_predict(X_train, Y_train, X_test, optimal_k)\n",
    "MSE_test_kNN = np.mean((Y_test - test_preds_kNN) ** 2)\n",
    "\n",
    "print(\"Cross-val kNN - In sample error        : \" + str(MSE_train_kNN))\n",
    "print(\"Cross-val kNN - Out of sample error    : \" + str(MSE_test_kNN))"
   ]
  },
  {
   "cell_type": "markdown",
   "id": "polar-scenario",
   "metadata": {},
   "source": [
    "And we can also get a measure of the accuracies using the $R^2$ score:"
   ]
  },
  {
   "cell_type": "code",
   "execution_count": 43,
   "id": "broke-cross",
   "metadata": {},
   "outputs": [
    {
     "name": "stdout",
     "output_type": "stream",
     "text": [
      "Cross-val kNN Train set mean accuracy  : 0.9557419532102102\n",
      "Cross-val kNN Test set mean accuracy   : 0.7619048240726203\n"
     ]
    }
   ],
   "source": [
    "print('Cross-val kNN Train set mean accuracy  :', r2_score(Y_train, train_preds_kNN))\n",
    "print('Cross-val kNN Test set mean accuracy   :', r2_score(Y_test, test_preds_kNN))"
   ]
  },
  {
   "cell_type": "markdown",
   "id": "conceptual-premiere",
   "metadata": {},
   "source": [
    "The MSE values for each of the 3 models are summarised below:"
   ]
  },
  {
   "cell_type": "code",
   "execution_count": 44,
   "id": "popular-helping",
   "metadata": {},
   "outputs": [
    {
     "data": {
      "text/html": [
       "<div>\n",
       "<style scoped>\n",
       "    .dataframe tbody tr th:only-of-type {\n",
       "        vertical-align: middle;\n",
       "    }\n",
       "\n",
       "    .dataframe tbody tr th {\n",
       "        vertical-align: top;\n",
       "    }\n",
       "\n",
       "    .dataframe thead th {\n",
       "        text-align: right;\n",
       "    }\n",
       "</style>\n",
       "<table border=\"1\" class=\"dataframe\">\n",
       "  <thead>\n",
       "    <tr style=\"text-align: right;\">\n",
       "      <th></th>\n",
       "      <th>Training</th>\n",
       "      <th>Validation</th>\n",
       "    </tr>\n",
       "  </thead>\n",
       "  <tbody>\n",
       "    <tr>\n",
       "      <th>Linear Regression</th>\n",
       "      <td>24.38006444485437</td>\n",
       "      <td>19.525828624573784</td>\n",
       "    </tr>\n",
       "    <tr>\n",
       "      <th>Ridge Regression</th>\n",
       "      <td>24.559828320867624</td>\n",
       "      <td>19.360934376274972</td>\n",
       "    </tr>\n",
       "    <tr>\n",
       "      <th>kNN</th>\n",
       "      <td>3.973725247524753</td>\n",
       "      <td>13.935808823529408</td>\n",
       "    </tr>\n",
       "  </tbody>\n",
       "</table>\n",
       "</div>"
      ],
      "text/plain": [
       "                            Training         Validation\n",
       "Linear Regression  24.38006444485437 19.525828624573784\n",
       "Ridge Regression  24.559828320867624 19.360934376274972\n",
       "kNN                3.973725247524753 13.935808823529408"
      ]
     },
     "execution_count": 44,
     "metadata": {},
     "output_type": "execute_result"
    }
   ],
   "source": [
    "reg_MSE = np.array([[MSE_train, MSE_test],[MSE_train_ridge, MSE_test_ridge], [MSE_train_kNN, MSE_test_kNN]])\n",
    "reg_MSE_df = pd.DataFrame(reg_MSE, columns = [\"Training\", \"Validation\"], index = [\"Linear Regression\", \"Ridge Regression\", \"kNN\"])\n",
    "reg_MSE_df"
   ]
  },
  {
   "cell_type": "markdown",
   "id": "crucial-supervisor",
   "metadata": {},
   "source": [
    "Thus we see that the kNN model appears to have a much higher performance when comparing the Validation MSEs.\n",
    "This could be explained by the fact that the Linear and Ridge regression models require the assumption of linearity in the data, however as kNN is a local model, it can also deal with any non-linearity which may be present."
   ]
  },
  {
   "cell_type": "markdown",
   "id": "attended-candidate",
   "metadata": {},
   "source": [
    "Furthermore, as we have no other information about the data, we are unsure if the data is homogeneous or not (that is drawn from a single or similar populations).\n",
    "\n",
    "The fact that the regression models performed slighlty worse may suggest that there is some inhomogeneity iand so one regression model for all the data might not be suitable. One possible way we could deal with an inhomogeneous data set, is by fitting different models over different regions, for example various kNN models for particular regions, each with an optimal $k$ for that area."
   ]
  },
  {
   "cell_type": "markdown",
   "id": "regional-livestock",
   "metadata": {},
   "source": [
    "## Task 2: Classification\n",
    "***"
   ]
  },
  {
   "cell_type": "markdown",
   "id": "after-charlotte",
   "metadata": {},
   "source": [
    "### 2.1 Logistic Regression\n",
    "***\n",
    "\n",
    "#### Question 2.1.1\n",
    "***"
   ]
  },
  {
   "cell_type": "markdown",
   "id": "improving-municipality",
   "metadata": {},
   "source": [
    "We start by importing the data used for the classification task, separating them into X and Y sets and creating panda dataframes and numpy arrays for use as appropriate."
   ]
  },
  {
   "cell_type": "code",
   "execution_count": 47,
   "id": "controversial-control",
   "metadata": {},
   "outputs": [],
   "source": [
    "test_data = pd.read_csv('./classification_test.csv', header=None)\n",
    "train_data = pd.read_csv('./classification_train.csv', header=None)\n",
    "\n",
    "# Create DataFrames\n",
    "df_X_train = train_data[train_data.columns[:-1]]\n",
    "df_Y_train = train_data[train_data.columns[-1]]\n",
    "\n",
    "df_X_test = test_data[test_data.columns[:-1]]\n",
    "df_Y_test = test_data[test_data.columns[-1]]\n",
    "\n",
    "# Create Numpy Arrays\n",
    "X_train = np.array(train_data.iloc[:,:-1])\n",
    "Y_train = np.array(train_data.iloc()[:,-1])\n",
    "\n",
    "X_test = np.array(test_data.iloc[:,:-1])\n",
    "Y_test = np.array(test_data.iloc()[:,-1])"
   ]
  },
  {
   "cell_type": "markdown",
   "id": "shared-edition",
   "metadata": {},
   "source": [
    "Again, we can examine the structure of the data to get a better idea:"
   ]
  },
  {
   "cell_type": "code",
   "execution_count": 49,
   "id": "extra-vatican",
   "metadata": {},
   "outputs": [
    {
     "data": {
      "text/html": [
       "<div>\n",
       "<style scoped>\n",
       "    .dataframe tbody tr th:only-of-type {\n",
       "        vertical-align: middle;\n",
       "    }\n",
       "\n",
       "    .dataframe tbody tr th {\n",
       "        vertical-align: top;\n",
       "    }\n",
       "\n",
       "    .dataframe thead th {\n",
       "        text-align: right;\n",
       "    }\n",
       "</style>\n",
       "<table border=\"1\" class=\"dataframe\">\n",
       "  <thead>\n",
       "    <tr style=\"text-align: right;\">\n",
       "      <th></th>\n",
       "      <th>0</th>\n",
       "      <th>1</th>\n",
       "      <th>2</th>\n",
       "      <th>3</th>\n",
       "      <th>4</th>\n",
       "      <th>5</th>\n",
       "      <th>6</th>\n",
       "      <th>7</th>\n",
       "      <th>8</th>\n",
       "      <th>9</th>\n",
       "      <th>10</th>\n",
       "      <th>11</th>\n",
       "    </tr>\n",
       "  </thead>\n",
       "  <tbody>\n",
       "    <tr>\n",
       "      <th>0</th>\n",
       "      <td>0.16176470588235292</td>\n",
       "      <td>0.25</td>\n",
       "      <td>0.36315615714757354</td>\n",
       "      <td>0.25</td>\n",
       "      <td>0.0</td>\n",
       "      <td>0.0</td>\n",
       "      <td>0.33333333333333326</td>\n",
       "      <td>0.33333333333333326</td>\n",
       "      <td>0.26785714285714285</td>\n",
       "      <td>1.0</td>\n",
       "      <td>1.0</td>\n",
       "      <td>0.0</td>\n",
       "    </tr>\n",
       "    <tr>\n",
       "      <th>1</th>\n",
       "      <td>0.4705882352941176</td>\n",
       "      <td>0.5</td>\n",
       "      <td>0.8587542643336633</td>\n",
       "      <td>0.0</td>\n",
       "      <td>0.0</td>\n",
       "      <td>0.33333333333333326</td>\n",
       "      <td>0.6666666666666667</td>\n",
       "      <td>0.6666666666666665</td>\n",
       "      <td>0.4285714285714285</td>\n",
       "      <td>1.0</td>\n",
       "      <td>0.0</td>\n",
       "      <td>1.0</td>\n",
       "    </tr>\n",
       "    <tr>\n",
       "      <th>2</th>\n",
       "      <td>0.1176470588235294</td>\n",
       "      <td>0.0</td>\n",
       "      <td>0.1380543633762518</td>\n",
       "      <td>0.0</td>\n",
       "      <td>1.0</td>\n",
       "      <td>0.33333333333333326</td>\n",
       "      <td>1.0</td>\n",
       "      <td>0.33333333333333326</td>\n",
       "      <td>0.26785714285714285</td>\n",
       "      <td>0.6666666666666665</td>\n",
       "      <td>0.0</td>\n",
       "      <td>1.0</td>\n",
       "    </tr>\n",
       "    <tr>\n",
       "      <th>3</th>\n",
       "      <td>0.4705882352941176</td>\n",
       "      <td>0.5</td>\n",
       "      <td>0.17585561791570375</td>\n",
       "      <td>0.0</td>\n",
       "      <td>1.0</td>\n",
       "      <td>1.0</td>\n",
       "      <td>0.33333333333333326</td>\n",
       "      <td>0.6666666666666665</td>\n",
       "      <td>0.41071428571428575</td>\n",
       "      <td>0.6666666666666665</td>\n",
       "      <td>0.0</td>\n",
       "      <td>0.0</td>\n",
       "    </tr>\n",
       "    <tr>\n",
       "      <th>4</th>\n",
       "      <td>0.6470588235294117</td>\n",
       "      <td>0.0</td>\n",
       "      <td>0.2396280400572246</td>\n",
       "      <td>0.0</td>\n",
       "      <td>1.0</td>\n",
       "      <td>0.6666666666666667</td>\n",
       "      <td>1.0</td>\n",
       "      <td>1.0</td>\n",
       "      <td>0.0892857142857143</td>\n",
       "      <td>0.6666666666666665</td>\n",
       "      <td>0.0</td>\n",
       "      <td>0.0</td>\n",
       "    </tr>\n",
       "  </tbody>\n",
       "</table>\n",
       "</div>"
      ],
      "text/plain": [
       "                   0    1                   2    3   4                   5   \\\n",
       "0 0.16176470588235292 0.25 0.36315615714757354 0.25 0.0                 0.0   \n",
       "1  0.4705882352941176  0.5  0.8587542643336633  0.0 0.0 0.33333333333333326   \n",
       "2  0.1176470588235294  0.0  0.1380543633762518  0.0 1.0 0.33333333333333326   \n",
       "3  0.4705882352941176  0.5 0.17585561791570375  0.0 1.0                 1.0   \n",
       "4  0.6470588235294117  0.0  0.2396280400572246  0.0 1.0  0.6666666666666667   \n",
       "\n",
       "                   6                   7                   8   \\\n",
       "0 0.33333333333333326 0.33333333333333326 0.26785714285714285   \n",
       "1  0.6666666666666667  0.6666666666666665  0.4285714285714285   \n",
       "2                 1.0 0.33333333333333326 0.26785714285714285   \n",
       "3 0.33333333333333326  0.6666666666666665 0.41071428571428575   \n",
       "4                 1.0                 1.0  0.0892857142857143   \n",
       "\n",
       "                  9   10  11  \n",
       "0                1.0 1.0 0.0  \n",
       "1                1.0 0.0 1.0  \n",
       "2 0.6666666666666665 0.0 1.0  \n",
       "3 0.6666666666666665 0.0 0.0  \n",
       "4 0.6666666666666665 0.0 0.0  "
      ]
     },
     "execution_count": 49,
     "metadata": {},
     "output_type": "execute_result"
    }
   ],
   "source": [
    "train_data.head()"
   ]
  },
  {
   "cell_type": "code",
   "execution_count": 50,
   "id": "eastern-allah",
   "metadata": {},
   "outputs": [
    {
     "data": {
      "text/plain": [
       "array([0., 1.])"
      ]
     },
     "execution_count": 50,
     "metadata": {},
     "output_type": "execute_result"
    }
   ],
   "source": [
    "np.unique(Y_train)"
   ]
  },
  {
   "cell_type": "markdown",
   "id": "employed-momentum",
   "metadata": {},
   "source": [
    "The last column consists only of 1s and 0s, these are the two classes we use for classification."
   ]
  },
  {
   "cell_type": "markdown",
   "id": "requested-corner",
   "metadata": {},
   "source": [
    "Now we start considering the logistic regression model. \n",
    "This involves assuming there exists a linear relationship between the predictors and the log-odds of the classifcation events:\n",
    "\n",
    "$$\\mathbf{x}^T \\mathbf{\\beta} = \\log{\\frac{P(y=1)}{1-P(y=1)}}$$\n",
    "\n",
    "And as we saw in lectures, we can rearrange this to be in the form of the logistic function:\n",
    "$$P(y=1) = \\frac{1}{1 + e^{-\\mathbf{x}^T \\mathbf{\\beta}}} =: h_{\\mathbf{\\beta}}(\\mathbf{x})$$\n",
    "\n",
    "We create this logistic function below:"
   ]
  },
  {
   "cell_type": "code",
   "execution_count": 51,
   "id": "transparent-causing",
   "metadata": {},
   "outputs": [],
   "source": [
    "def logistic(x):\n",
    "    return 1 / (1 + np.exp(-x))"
   ]
  },
  {
   "cell_type": "markdown",
   "id": "outside-bristol",
   "metadata": {},
   "source": [
    "We also create function that computes the output of the logistic function for a new data point $X$, given the parameters $\\beta$:"
   ]
  },
  {
   "cell_type": "code",
   "execution_count": 55,
   "id": "specific-interface",
   "metadata": {},
   "outputs": [],
   "source": [
    "# function to compute y log\n",
    "def predict_log(X, beta, beta_0):\n",
    "    y_log = logistic(beta.T @ X + beta_0)\n",
    "    return y_log"
   ]
  },
  {
   "cell_type": "markdown",
   "id": "coordinate-sentence",
   "metadata": {},
   "source": [
    "Our aim is to obtain the optimal parameters $\\beta$.\n",
    "We approach this by first initialising them to be zero:"
   ]
  },
  {
   "cell_type": "code",
   "execution_count": 52,
   "id": "danish-express",
   "metadata": {},
   "outputs": [],
   "source": [
    "# intialise beta and beta_0\n",
    "def initialise(d):\n",
    "    beta = np.zeros(shape=(d, 1), dtype=np.float32)\n",
    "    beta_0 = 0\n",
    "\n",
    "    return beta, beta_0"
   ]
  },
  {
   "cell_type": "markdown",
   "id": "interim-flush",
   "metadata": {},
   "source": [
    "We then want to maximise the log-likelihood of the model over the training set.\n",
    "(Note that this step requires the assumption of independence in the samples).\n",
    "\n",
    "As explained in the lectures, this is equivalent to minising the cost function:\n",
    "$$\n",
    "\\mathcal L = - \\frac{1}{n} \\sum_{i=1}^n y^{(i)} \\log(\\hat{y}_{\\text{log}}^{(i)}) + (1-y^{(i)}) \\log (1-\\hat{y}_{\\text{log}}^{(i)}) \\, .\n",
    "$$\n",
    "\n",
    "Whose derivatives are:\n",
    "$$\n",
    "\\frac{\\partial \\mathcal L}{\\partial \\boldsymbol \\beta} = \\frac{1}{n} \\sum_{i=1}^n X^{(i)} (\\hat{y}_{\\text{log}}^{(i)} - y^{(i)})^T\n",
    "$$\n",
    " \n",
    "$$\n",
    "\\frac{\\partial \\mathcal L}{\\partial \\beta_0} = \\frac{1}{n} \\sum_{i=1}^n (\\hat{y}_{\\text{log}}^{(i)} - y^{(i)})\n",
    "$$\n",
    "\n",
    "This is implemented with the following functions: 'propagate' and and 'optimise'.\n",
    "The 'propagate' function computes and returns the above gradients and the cost function above."
   ]
  },
  {
   "cell_type": "code",
   "execution_count": 53,
   "id": "institutional-scenario",
   "metadata": {},
   "outputs": [],
   "source": [
    "# forward pass of cost function and its derivatives\n",
    "def propagate(X, y, beta, beta_0):\n",
    "  \"\"\"\n",
    "  Arguments:\n",
    "  X: data of size (d, n)\n",
    "  y: true label vector of size (1, n)\n",
    "  beta: parameters, a numpy array of size (d, 1)\n",
    "  beta_0: offset, a scalar\n",
    "\n",
    "  Returns:\n",
    "  cost: negative log-likelihood cost for logistic regression\n",
    "  dbeta: gradient of the loss with respect to beta\n",
    "  dbeta_0: gradient of the loss with respect to beta_0\n",
    "  \"\"\"\n",
    "  n = X.shape[1]\n",
    "  y_log = predict_log(X, beta, beta_0)\n",
    "\n",
    "  # cost function\n",
    "  cost = (-1) * np.mean(np.multiply(y, np.log(y_log)) + np.multiply((1-y), np.log(1-y_log)), axis = 1) \n",
    "\n",
    "  # derivatives\n",
    "  dbeta = (1/n) * X @ (y_log - y).T\n",
    "  dbeta_0 =  np.mean(y_log - y, axis = 1)\n",
    "\n",
    "  assert(dbeta.shape==beta.shape)\n",
    "  assert(dbeta_0.dtype==float)\n",
    "  cost = np.squeeze(cost)\n",
    "  assert(cost.shape==())\n",
    "  \n",
    "  # store gradients in a dictionary\n",
    "  grads = {\"dbeta\": dbeta, \"dbeta_0\": dbeta_0}\n",
    "  \n",
    "  return grads, cost"
   ]
  },
  {
   "cell_type": "markdown",
   "id": "thermal-token",
   "metadata": {},
   "source": [
    "The 'optimise' function then performs the optimisation by retrieving these values by calling the 'propagate' function, and then updating our guess for the 'betas' according to the updating procedure and the learning rate $\\alpha$:\n",
    "\n",
    "$$\n",
    "\\boldsymbol \\beta = \\boldsymbol \\beta - \\alpha \\ \\frac{\\partial \\mathcal L}{\\partial \\boldsymbol \\beta}\n",
    "$$\n",
    "$$\n",
    "\\beta_0 = \\beta_0 - \\alpha \\ \\frac{\\partial \\mathcal L}{\\partial \\beta_0} \\, .\n",
    "$$\n",
    "\n",
    "This procedure is repeated until the maximum number of iterations specified is reached:"
   ]
  },
  {
   "cell_type": "code",
   "execution_count": 54,
   "id": "legitimate-literature",
   "metadata": {},
   "outputs": [],
   "source": [
    "# function that performs the optimisation of the cost function as required\n",
    "def optimise(X, y, beta, beta_0, num_iterations=1000, learning_rate=0.005, print_cost=False):\n",
    "  \"\"\"\n",
    "  Arguments:\n",
    "  X: data of size (d, n)\n",
    "  y: true label vector of size (1, n)\n",
    "  beta: parameters, a numpy array of size (d, 1)\n",
    "  beta_0: offset, a scalar\n",
    "  num_iterations: number of iterations gradient descent shall update the parameters\n",
    "  learning_rate: step size in updating procedure\n",
    "  print_cost: whether to print the cost every 100 iterations or not\n",
    "\n",
    "  Returns:\n",
    "  params: dictionary containing the parameters beta and offset beta_0\n",
    "  grads: dictionary containing the gradients\n",
    "  costs: list of all the costs computed during the optimisation (can be used to plot the learning curve).\n",
    "  \"\"\"\n",
    "  costs = []\n",
    "    \n",
    "  for i in range(num_iterations):\n",
    "\n",
    "      # calculate cost and gradients\n",
    "      grads, cost = propagate(X, y, beta, beta_0)\n",
    "      \n",
    "      # retrieve derivatives from grads\n",
    "      dbeta = grads[\"dbeta\"]\n",
    "      dbeta_0 = grads[\"dbeta_0\"]\n",
    "      \n",
    "      # updating procedure\n",
    "      beta = beta - learning_rate * dbeta\n",
    "      beta_0 = beta_0 - learning_rate * dbeta_0\n",
    "      \n",
    "      # record the costs\n",
    "      if i % 100 == 0:\n",
    "          costs.append(cost)\n",
    "      \n",
    "      # print the cost every 100 iterations\n",
    "      if print_cost and i % 100 == 0:\n",
    "          print (\"cost after iteration %i: %f\" %(i, cost))\n",
    "  \n",
    "  # save parameters and gradients in dictionary\n",
    "  params = {\"beta\": beta, \"beta_0\": beta_0}\n",
    "  grads = {\"dbeta\": dbeta, \"dbeta_0\": dbeta_0}\n",
    "  \n",
    "  return params, grads, costs"
   ]
  },
  {
   "cell_type": "markdown",
   "id": "temporal-guarantee",
   "metadata": {},
   "source": [
    "Then we make a function to predict labels given the parameters $\\beta$ and a new set X_test.\n",
    "Here we also have the decision threshold as a hyper-parameter, that is the probability boundary at which the class that a data point is assigned to changes.\n",
    "\n",
    "$$\\hat{\\boldsymbol y}_{\\text{log}} = f(\\boldsymbol \\beta^T \\boldsymbol X + \\beta_0) > \\tau \\Rightarrow \\boldsymbol X \\in {1}$$\n",
    "where $\\tau$ is the decision threshold.\n",
    "\n",
    "In this way we transform the regression to a classification."
   ]
  },
  {
   "cell_type": "code",
   "execution_count": 56,
   "id": "protecting-database",
   "metadata": {},
   "outputs": [],
   "source": [
    "# function that predicts the labels for a given data given the beta parameters\n",
    "def predict(X_test, beta, beta_0, decision_threshold):\n",
    "    \"\"\"\n",
    "    Arguments:\n",
    "    X_test: test data of size (d, n)\n",
    "    beta: parameters, a numpy array of size (d, 1)\n",
    "    beta_0: offset, a scalar\n",
    "    decision_threshold: a scalar in [0,1]\n",
    "    \n",
    "    Returns:\n",
    "    y_pred: vector containing all binary predictions (0/1) for the examples in X_test\n",
    "    \"\"\"\n",
    "    n = X_test.shape[1]\n",
    "    y_pred = np.zeros((1,n))\n",
    "    beta = beta.reshape(X_test.shape[0], 1)\n",
    "    \n",
    "    # compute vector y_log predicting the probabilities\n",
    "    y_log = predict_log(X_test, beta, beta_0)\n",
    "    \n",
    "    for i in range(y_log.shape[1]):\n",
    "        \n",
    "        # convert probabilities y_log to actual predictions y_pred\n",
    "        if y_log[0, i] > decision_threshold:\n",
    "            y_pred[0, i] = 1\n",
    "        else:\n",
    "            y_pred[0, i] = 0\n",
    "    \n",
    "    assert(y_pred.shape==(1, n))\n",
    "    \n",
    "    return y_pred"
   ]
  },
  {
   "cell_type": "markdown",
   "id": "minute-leonard",
   "metadata": {},
   "source": [
    "Finally we make a main function that trains model given the hyperparameters as arguments and returns all the relevant information including the accuracies and the parameters."
   ]
  },
  {
   "cell_type": "code",
   "execution_count": 58,
   "id": "electronic-roman",
   "metadata": {},
   "outputs": [],
   "source": [
    "# One function that has all hyperparameters as arguments\n",
    "def model(X_train, y_train, X_test, y_test, \n",
    "          decision_threshold, num_iterations=5000, learning_rate=0.5, print_cost=False):\n",
    "    # initialize parameters with zeros\n",
    "    beta, beta_0 = initialise(X_train.shape[0])\n",
    "    \n",
    "    # gradient descent\n",
    "    parameters, grads, costs = optimise(X_train, y_train, beta, beta_0, \n",
    "                                        num_iterations, learning_rate, print_cost=print_cost)\n",
    "    \n",
    "    # retrieve parameters beta and beta_0 from dictionary \"parameters\"\n",
    "    beta = parameters[\"beta\"]\n",
    "    beta_0 = parameters[\"beta_0\"]\n",
    "    \n",
    "    # predict test and train set examples\n",
    "    y_pred_test = predict(X_test, beta, beta_0, decision_threshold)\n",
    "    y_pred_train = predict(X_train, beta, beta_0, decision_threshold)\n",
    "    \n",
    "    # obtain train/test Errors\n",
    "    train_accuracy = 100 - np.mean(np.abs(y_pred_train - y_train)) * 100\n",
    "    test_accuracy = 100 - np.mean(np.abs(y_pred_test - y_test)) * 100\n",
    "    \n",
    "    # saving all information\n",
    "    d = {\"costs\": costs, \n",
    "         \"y_pred_test\": y_pred_test, \n",
    "         \"y_pred_train\": y_pred_train, \n",
    "         \"beta\": beta, \"beta_0\": beta_0, \n",
    "         \"learning_rate\": learning_rate, \n",
    "         \"num_iterations\": num_iterations,\n",
    "         \"train_acc\": train_accuracy,\n",
    "         \"test_acc\": test_accuracy}\n",
    "    \n",
    "    return d"
   ]
  },
  {
   "cell_type": "markdown",
   "id": "mechanical-solomon",
   "metadata": {},
   "source": [
    "In order to perform grid search, we consider 10 evenly spaced values between 0 and 1 as possible values for both the learning rate and the decision threshold, and we make a grid using this."
   ]
  },
  {
   "cell_type": "code",
   "execution_count": 59,
   "id": "auburn-merit",
   "metadata": {},
   "outputs": [],
   "source": [
    "# a function to create a grid given two vectors\n",
    "def make_grid(v1,v2):\n",
    "    grid = np.array(np.meshgrid(v1, v2))\n",
    "    return grid.T.reshape(-1,2)\n",
    "\n",
    "# Create the grid for grid search\n",
    "learning_rate_vec = np.arange(1,11) / 10\n",
    "decision_threshold_vec = np.arange(1,11) / 10\n",
    "grid = make_grid(learning_rate_vec, decision_threshold_vec)"
   ]
  },
  {
   "cell_type": "markdown",
   "id": "united-bouquet",
   "metadata": {},
   "source": [
    "Next we aggregate the X_train and Y_train data to be split into folds for cross validation:"
   ]
  },
  {
   "cell_type": "code",
   "execution_count": 60,
   "id": "central-force",
   "metadata": {},
   "outputs": [],
   "source": [
    "# Aggregate the X and Y data into one array to be used for cross validation\n",
    "train = np.hstack((X_train, Y_train[:, np.newaxis]))\n",
    "\n",
    "# Generate the folds\n",
    "folds = cross_val_split(train, 5)"
   ]
  },
  {
   "cell_type": "markdown",
   "id": "linear-yacht",
   "metadata": {},
   "source": [
    "Finally we make a function that performs the cross validation and grid search as required, and stores the accuracies in dictionaries that we can access at the end."
   ]
  },
  {
   "cell_type": "code",
   "execution_count": 61,
   "id": "polyphonic-utilization",
   "metadata": {},
   "outputs": [],
   "source": [
    "def cross_val_evaluate_logistic(folds, grid):\n",
    "    # create dictionaries\n",
    "    train_acc = {1:[], 2:[], 3:[], 4:[], 5:[]}\n",
    "    val_acc = {1:[], 2:[], 3:[], 4:[], 5:[]}\n",
    "\n",
    "    for i in range(len(folds)):\n",
    "      \n",
    "        print('Fold', i+1)\n",
    "        # define the training set (i.e. selecting all folds and deleting the one used for validation)\n",
    "        train_set = np.delete(np.asarray(folds).reshape(len(folds), folds[0].shape[0], folds[0].shape[1]), i, axis=0)\n",
    "        train_folds = train_set.reshape(len(train_set)*train_set[0].shape[0], train_set[0].shape[1])\n",
    "        X_train = train_folds[:,:-1].T\n",
    "        y_train = train_folds[:, -1]\n",
    "        \n",
    "        # define the validation set\n",
    "        val_fold = folds[i]\n",
    "        X_val = val_fold[:,:-1].T\n",
    "        y_val = val_fold[:, -1]\n",
    "    \n",
    "        # train the model and obtain the beta parameters for each combination\n",
    "        # GRID SEARCH\n",
    "        for parameters in grid:            \n",
    "            # train the model\n",
    "            model_dict = model(X_train, y_train, X_val, y_val, decision_threshold=parameters[1], num_iterations=5000, learning_rate=parameters[0])\n",
    "            \n",
    "            # obtain the accuracies and store these in the appropriate dictionaries\n",
    "            train_acc[i+1].append(model_dict[\"train_acc\"])\n",
    "            val_acc[i+1].append(model_dict[\"test_acc\"])\n",
    "    \n",
    "    print(\"Training finished.\")\n",
    "    return train_acc, val_acc"
   ]
  },
  {
   "cell_type": "markdown",
   "id": "refined-values",
   "metadata": {},
   "source": [
    "We call the function and obtain the optimal set of hyperparameters by computing the average validation accuracy for each combination over the folds, and finding the combination that results in the maximum:\n",
    "\n",
    "[Note this can take several minutes]"
   ]
  },
  {
   "cell_type": "code",
   "execution_count": 62,
   "id": "psychological-analyst",
   "metadata": {},
   "outputs": [
    {
     "name": "stdout",
     "output_type": "stream",
     "text": [
      "Fold 1\n",
      "Fold 2\n",
      "Fold 3\n",
      "Fold 4\n",
      "Fold 5\n",
      "Training finished.\n",
      "Optimal Decision Threshold: 0.5\n",
      "Optimal Learning Rate    : 0.4\n"
     ]
    }
   ],
   "source": [
    "train_acc, val_acc = cross_val_evaluate_logistic(folds, grid)\n",
    "\n",
    "# Compute the average validation accuracy over the folds, to get average for each penalty term\n",
    "average_val_acc = np.mean([val_acc[fold] for fold in range(1, 6)], axis = 0)\n",
    "optimal_parameters = grid[np.argmax(average_val_acc)]\n",
    "\n",
    "print(\"Optimal Decision Threshold: \" + str(optimal_parameters[1]))\n",
    "print(\"Optimal Learning Rate    : \" + str(optimal_parameters[0]))"
   ]
  },
  {
   "cell_type": "markdown",
   "id": "miniature-pierce",
   "metadata": {},
   "source": [
    "We can visualise the grid search over the hyperparameters using a 3d plot:"
   ]
  },
  {
   "cell_type": "code",
   "execution_count": 87,
   "id": "together-snowboard",
   "metadata": {},
   "outputs": [
    {
     "data": {
      "image/png": "[encoded data removed]",
      "text/plain": [
       "<Figure size 432x288 with 1 Axes>"
      ]
     },
     "metadata": {
      "needs_background": "light"
     },
     "output_type": "display_data"
    }
   ],
   "source": [
    "fig = plt.figure()\n",
    "ax = fig.gca(projection='3d')\n",
    "\n",
    "# Plot the surface.\n",
    "surf = ax.plot_trisurf(grid[:,0], grid[:,1], average_val_acc, cmap=cm.coolwarm,\n",
    "                       linewidth=0)\n",
    "ax.view_init(15, 220)\n",
    "ax.set_xlabel('Learning Rate')\n",
    "ax.set_ylabel('Decision Threshold')\n",
    "ax.set_zlabel('Validation Accuracy')\n",
    "plt.show()"
   ]
  },
  {
   "cell_type": "markdown",
   "id": "pleased-philadelphia",
   "metadata": {},
   "source": [
    "#### Question 2.1.2\n",
    "***"
   ]
  },
  {
   "cell_type": "markdown",
   "id": "comparative-seattle",
   "metadata": {},
   "source": [
    "Finally we retrain the model on the whole dataset using the optimal hyperparameters and compare the mean accuracies:"
   ]
  },
  {
   "cell_type": "code",
   "execution_count": 64,
   "id": "short-advisory",
   "metadata": {},
   "outputs": [
    {
     "name": "stdout",
     "output_type": "stream",
     "text": [
      "Training set accuracy: 74.375 %\n",
      "Test set accuracy    : 74.0 %\n"
     ]
    }
   ],
   "source": [
    "# Retrain the model using the optimal paramaters\n",
    "d = model(X_train.T, Y_train, X_test.T, Y_test, decision_threshold=optimal_parameters[1],\n",
    "          num_iterations=5000, learning_rate=optimal_parameters[0])\n",
    "\n",
    "# Mean Accuracies\n",
    "print(\"Training set accuracy: {} %\".format(d[\"train_acc\"]))\n",
    "print(\"Test set accuracy    : {} %\".format(d[\"test_acc\"]))"
   ]
  },
  {
   "cell_type": "markdown",
   "id": "fiscal-hands",
   "metadata": {},
   "source": [
    "We observe that the mean accuracies of our optimal model are fairly close to eachother and well above 50%, which suggests that overfitting has not occured. \n",
    "However clearly there is still room for improvement."
   ]
  },
  {
   "cell_type": "markdown",
   "id": "dimensional-program",
   "metadata": {},
   "source": [
    "### 2.2 Random Forest\n",
    "***\n",
    "\n",
    "#### Question 2.2.1\n",
    "***"
   ]
  },
  {
   "cell_type": "markdown",
   "id": "modified-supply",
   "metadata": {},
   "source": [
    "As decision trees are the building blocks of random forests, we start by creating an appropriate decision tree model for the data.\n",
    "\n",
    "Once again we check the first few rows of our data."
   ]
  },
  {
   "cell_type": "code",
   "execution_count": 89,
   "id": "controversial-sydney",
   "metadata": {},
   "outputs": [
    {
     "data": {
      "text/html": [
       "<div>\n",
       "<style scoped>\n",
       "    .dataframe tbody tr th:only-of-type {\n",
       "        vertical-align: middle;\n",
       "    }\n",
       "\n",
       "    .dataframe tbody tr th {\n",
       "        vertical-align: top;\n",
       "    }\n",
       "\n",
       "    .dataframe thead th {\n",
       "        text-align: right;\n",
       "    }\n",
       "</style>\n",
       "<table border=\"1\" class=\"dataframe\">\n",
       "  <thead>\n",
       "    <tr style=\"text-align: right;\">\n",
       "      <th></th>\n",
       "      <th>0</th>\n",
       "      <th>1</th>\n",
       "      <th>2</th>\n",
       "      <th>3</th>\n",
       "      <th>4</th>\n",
       "      <th>5</th>\n",
       "      <th>6</th>\n",
       "      <th>7</th>\n",
       "      <th>8</th>\n",
       "      <th>9</th>\n",
       "      <th>10</th>\n",
       "    </tr>\n",
       "  </thead>\n",
       "  <tbody>\n",
       "    <tr>\n",
       "      <th>0</th>\n",
       "      <td>0.16176470588235292</td>\n",
       "      <td>0.25</td>\n",
       "      <td>0.36315615714757354</td>\n",
       "      <td>0.25</td>\n",
       "      <td>0.0</td>\n",
       "      <td>0.0</td>\n",
       "      <td>0.33333333333333326</td>\n",
       "      <td>0.33333333333333326</td>\n",
       "      <td>0.26785714285714285</td>\n",
       "      <td>1.0</td>\n",
       "      <td>1.0</td>\n",
       "    </tr>\n",
       "    <tr>\n",
       "      <th>1</th>\n",
       "      <td>0.4705882352941176</td>\n",
       "      <td>0.5</td>\n",
       "      <td>0.8587542643336633</td>\n",
       "      <td>0.0</td>\n",
       "      <td>0.0</td>\n",
       "      <td>0.33333333333333326</td>\n",
       "      <td>0.6666666666666667</td>\n",
       "      <td>0.6666666666666665</td>\n",
       "      <td>0.4285714285714285</td>\n",
       "      <td>1.0</td>\n",
       "      <td>0.0</td>\n",
       "    </tr>\n",
       "    <tr>\n",
       "      <th>2</th>\n",
       "      <td>0.1176470588235294</td>\n",
       "      <td>0.0</td>\n",
       "      <td>0.1380543633762518</td>\n",
       "      <td>0.0</td>\n",
       "      <td>1.0</td>\n",
       "      <td>0.33333333333333326</td>\n",
       "      <td>1.0</td>\n",
       "      <td>0.33333333333333326</td>\n",
       "      <td>0.26785714285714285</td>\n",
       "      <td>0.6666666666666665</td>\n",
       "      <td>0.0</td>\n",
       "    </tr>\n",
       "    <tr>\n",
       "      <th>3</th>\n",
       "      <td>0.4705882352941176</td>\n",
       "      <td>0.5</td>\n",
       "      <td>0.17585561791570375</td>\n",
       "      <td>0.0</td>\n",
       "      <td>1.0</td>\n",
       "      <td>1.0</td>\n",
       "      <td>0.33333333333333326</td>\n",
       "      <td>0.6666666666666665</td>\n",
       "      <td>0.41071428571428575</td>\n",
       "      <td>0.6666666666666665</td>\n",
       "      <td>0.0</td>\n",
       "    </tr>\n",
       "    <tr>\n",
       "      <th>4</th>\n",
       "      <td>0.6470588235294117</td>\n",
       "      <td>0.0</td>\n",
       "      <td>0.2396280400572246</td>\n",
       "      <td>0.0</td>\n",
       "      <td>1.0</td>\n",
       "      <td>0.6666666666666667</td>\n",
       "      <td>1.0</td>\n",
       "      <td>1.0</td>\n",
       "      <td>0.0892857142857143</td>\n",
       "      <td>0.6666666666666665</td>\n",
       "      <td>0.0</td>\n",
       "    </tr>\n",
       "  </tbody>\n",
       "</table>\n",
       "</div>"
      ],
      "text/plain": [
       "                   0    1                   2    3   4                   5   \\\n",
       "0 0.16176470588235292 0.25 0.36315615714757354 0.25 0.0                 0.0   \n",
       "1  0.4705882352941176  0.5  0.8587542643336633  0.0 0.0 0.33333333333333326   \n",
       "2  0.1176470588235294  0.0  0.1380543633762518  0.0 1.0 0.33333333333333326   \n",
       "3  0.4705882352941176  0.5 0.17585561791570375  0.0 1.0                 1.0   \n",
       "4  0.6470588235294117  0.0  0.2396280400572246  0.0 1.0  0.6666666666666667   \n",
       "\n",
       "                   6                   7                   8   \\\n",
       "0 0.33333333333333326 0.33333333333333326 0.26785714285714285   \n",
       "1  0.6666666666666667  0.6666666666666665  0.4285714285714285   \n",
       "2                 1.0 0.33333333333333326 0.26785714285714285   \n",
       "3 0.33333333333333326  0.6666666666666665 0.41071428571428575   \n",
       "4                 1.0                 1.0  0.0892857142857143   \n",
       "\n",
       "                  9   10  \n",
       "0                1.0 1.0  \n",
       "1                1.0 0.0  \n",
       "2 0.6666666666666665 0.0  \n",
       "3 0.6666666666666665 0.0  \n",
       "4 0.6666666666666665 0.0  "
      ]
     },
     "execution_count": 89,
     "metadata": {},
     "output_type": "execute_result"
    }
   ],
   "source": [
    "df_X_train.head()"
   ]
  },
  {
   "cell_type": "markdown",
   "id": "affected-brazil",
   "metadata": {},
   "source": [
    "We observe that the data consists of continuous variables, so we start by adapting the decision tree from the coding task which was constructed for discrete data:"
   ]
  },
  {
   "cell_type": "markdown",
   "id": "rotary-certification",
   "metadata": {},
   "source": [
    "Also instead of using the gini index, we will use the cross entropy as the information criterion to measure the quality of the classification for a given split.\n",
    "\n",
    "The formula I am using for the entropy is:\n",
    "$$ - \\sum_{k=1}^{K} \\hat{p}_{mk} \\log(\\hat{p}_{mk}) $$ \n",
    "where $\\hat{p}_{mk}$ is the porportion of class k observations in node m.\n",
    "\n",
    "The source of this formula is from Page 309, Chapter 9.2 of the book \"The Elements of Statistical Learning\" - Trevor Hastie, Robert Tibshirani, Jerome Friedman"
   ]
  },
  {
   "cell_type": "markdown",
   "id": "major-helicopter",
   "metadata": {},
   "source": [
    "We define a function to calculate the cross entropy:"
   ]
  },
  {
   "cell_type": "code",
   "execution_count": 91,
   "id": "acting-catch",
   "metadata": {},
   "outputs": [],
   "source": [
    "def cross_entropy(y, sample_weights=None):\n",
    "    \"\"\" \n",
    "    Calculate the cross_entropy for labels.\n",
    "    Arguments:\n",
    "        y: vector of training labels, of shape (N,).\n",
    "        sample_weights: weights for each samples, of shape (N,).\n",
    "    Returns:\n",
    "        (float): the cross entropy for y.\n",
    "    \"\"\"\n",
    "    if sample_weights is None:\n",
    "        sample_weights = np.ones(y.shape[0]) / y.shape[0]\n",
    "    \n",
    "    ce = 0\n",
    "    num = y.shape[0]  # number of labels\n",
    "    label_counts = {}  # caculate different labels in y，and store in label_counts\n",
    "    for i in range(num):\n",
    "        if y[i] not in label_counts.keys():\n",
    "            label_counts[y[i]] = 0\n",
    "        label_counts[y[i]] += sample_weights[i]\n",
    "    \n",
    "    for key in label_counts:\n",
    "        prob = float(label_counts[key]) / float(np.sum(sample_weights))\n",
    "        ce -= prob * np.log(prob)\n",
    "    \n",
    "    return ce"
   ]
  },
  {
   "cell_type": "markdown",
   "id": "arranged-optimization",
   "metadata": {},
   "source": [
    "Next we have the functions that split the data into two regions given a column and a value, and also a function to calculate the total cross entropy for every feature:"
   ]
  },
  {
   "cell_type": "code",
   "execution_count": 96,
   "id": "colonial-validation",
   "metadata": {},
   "outputs": [],
   "source": [
    "def split_dataset(X, y, column, value, sample_weights=None):\n",
    "    # create two regions R1 and R2\n",
    "    R1 = []\n",
    "    R2 = []\n",
    "    featVec = X[:, column]\n",
    "    \n",
    "    # selecting all columns of X except the \"column\" we are splitting on\n",
    "    X = X[:,[i for i in range(X.shape[1]) if i!=column]]  \n",
    "    \n",
    "    for i in range(len(featVec)):\n",
    "        # we use <= instead of < as we are dealing with continuous data\n",
    "        if featVec[i] <= value:\n",
    "            R1.append(i)\n",
    "        else:\n",
    "            R2.append(i)   \n",
    "            \n",
    "    # create the split regions in terms of X and y variables\n",
    "    X1 = X[R1,:]\n",
    "    y1 = y[R1]\n",
    "    X2 = X[R2,:]\n",
    "    y2 = y[R2]\n",
    "    \n",
    "    # return the list of splits\n",
    "    if sample_weights is None:\n",
    "        return [(X1, y1), (X2, y2)]\n",
    "    else:\n",
    "        return [(X1, y1, sample_weights[R1]) , (X2, y2, sample_weights[R2])]\n",
    "\n",
    "def cross_entropy_calculate(X, y, column, value, sample_weights=None):\n",
    "    \n",
    "    if sample_weights is None:\n",
    "        sample_weights = np.ones(y.shape[0]) / y.shape[0]\n",
    "    \n",
    "    information_gain = 0\n",
    "    new_cost = 0.0\n",
    "    \n",
    "    old_cost = cross_entropy(y, sample_weights)\n",
    "    \n",
    "    # split the values of i-th feature and calculate the cost of the split\n",
    "    for sub_X, sub_y, sub_sample_weights in split_dataset(X, y, column, value, sample_weights):\n",
    "        prob = np.sum(sub_sample_weights) / float(np.sum(sample_weights))\n",
    "        \n",
    "        # New cost (cross entropy multiplied by a weighted prob depending on the sample weights)\n",
    "        new_cost += prob * cross_entropy(sub_y, sub_sample_weights)\n",
    "  \n",
    "    # information gain\n",
    "    information_gain = old_cost - new_cost \n",
    "\n",
    "    return information_gain"
   ]
  },
  {
   "cell_type": "markdown",
   "id": "alike-saskatchewan",
   "metadata": {},
   "source": [
    "Then we create a function to choose the best feature to split on according to the information gain for each feature."
   ]
  },
  {
   "cell_type": "code",
   "execution_count": 97,
   "id": "appreciated-discrimination",
   "metadata": {},
   "outputs": [],
   "source": [
    "def choose_best_feature(X, y, max_features, sample_weights=None):\n",
    "    \n",
    "    # create sample_weights if not there already\n",
    "    if sample_weights is None:\n",
    "        sample_weights = np.ones(y.shape[0]) / y.shape[0]\n",
    "        \n",
    "    n_features = X.shape[1]\n",
    "    \n",
    "    # ensure the number of features chosen are not more than max_features\n",
    "    if n_features > max_features:\n",
    "        n_features = max_features\n",
    "    \n",
    "    # initialise variables\n",
    "    best_split=None\n",
    "    best_gain_cost = 0.0\n",
    "    \n",
    "    # shuffle the indices so we don't choose the first n features each time\n",
    "    indices = np.arange(X.shape[1])\n",
    "    np.random.shuffle(indices)\n",
    "    \n",
    "    # loop through the features\n",
    "    for feat_index in indices[:max_features]:\n",
    "        \n",
    "        # find the unique values for a given feature and loop through these\n",
    "        unique_values = np.unique(X[:, feat_index])\n",
    "        for val in unique_values:\n",
    "            # for each value calculate the cross entropy\n",
    "            info_gain_cost = cross_entropy_calculate(X, y, feat_index, val, sample_weights)\n",
    "            # check if this is better than the best split so far and update if it is\n",
    "            if info_gain_cost > best_gain_cost:\n",
    "                best_gain_cost = info_gain_cost\n",
    "                best_split = (feat_index, val)     \n",
    "    \n",
    "    return best_split"
   ]
  },
  {
   "cell_type": "markdown",
   "id": "subjective-opportunity",
   "metadata": {},
   "source": [
    "Then a function to return the majority label of a vector of labels:"
   ]
  },
  {
   "cell_type": "code",
   "execution_count": 95,
   "id": "copyrighted-slovenia",
   "metadata": {},
   "outputs": [],
   "source": [
    "def majority_vote(y, sample_weights=None):\n",
    "    \"\"\"\n",
    "    Return the label which appears the most in y.\n",
    "    Args:\n",
    "      y: vector of training labels, of shape (N,).\n",
    "      sample_weights: weights for each samples, of shape (N,).\n",
    "    Returns:\n",
    "      (int): the majority label\n",
    "    \"\"\"\n",
    "    if sample_weights is None:\n",
    "      sample_weights = np.ones(y.shape[0]) / y.shape[0]\n",
    "\n",
    "    majority_label = y[0]\n",
    "\n",
    "    dict_num = {}\n",
    "    for i in range(y.shape[0]):\n",
    "      if y[i] not in dict_num.keys():\n",
    "          dict_num[y[i]] = sample_weights[i]\n",
    "      else:\n",
    "          dict_num[y[i]] += sample_weights[i]\n",
    "\n",
    "    majority_label = max(dict_num, key=dict_num.get)\n",
    "    return majority_label"
   ]
  },
  {
   "cell_type": "markdown",
   "id": "local-seating",
   "metadata": {},
   "source": [
    "Finally we have the function to build the optimal decision tree by calling all the functions above:"
   ]
  },
  {
   "cell_type": "code",
   "execution_count": 99,
   "id": "convertible-stress",
   "metadata": {},
   "outputs": [],
   "source": [
    "def build_tree(X, y, feature_names, max_features, max_depth, current_depth, sample_weights=None, min_samples_leaf=2):\n",
    "    \"\"\"Build the decision tree according to the data.\n",
    "    X and y arguments:\n",
    "        X: (np.array) training features, of shape (N, D).\n",
    "        y: (np.array) vector of training labels, of shape (N,).\n",
    "    Returns:\n",
    "        (dict): a dict denoting the decision tree. \n",
    "        <tree> ::= node:'leaf' label:<iris-categ>\n",
    "                |  node:'split' feature-name:<col-name> value:<num> leaf:<tree> right:<tree>  \n",
    "    \"\"\"\n",
    "    mytree = dict()\n",
    "    \n",
    "    # include a clause for the cases where (i) no feature, (ii) all lables are the same, \n",
    "    # (iii) depth exceed, or (iv) X is too small, or (v) X consists of exactly the same features\n",
    "    if (len(feature_names)==0 or len(np.unique(y))==1 or \n",
    "        current_depth>=max_depth or len(X)<=min_samples_leaf or len(np.unique(X, axis = 0))) == 1:\n",
    "        \n",
    "        mytree = {'node':'leaf' ,  'label': majority_vote(y, sample_weights)}\n",
    "        return mytree\n",
    "    \n",
    "    best_split = choose_best_feature(X, y, max_features, sample_weights)    \n",
    "    \n",
    "    # case where there is no best split\n",
    "    if best_split == None:\n",
    "        mytree = {'node':'leaf' ,  'label': majority_vote(y, sample_weights)}\n",
    "        return mytree\n",
    "    \n",
    "    else:  \n",
    "        # retrieve the feature and value of the best_split\n",
    "        best_feature_idx, value = best_split\n",
    "        best_feature_name = feature_names[best_feature_idx]\n",
    "        \n",
    "        # remove the feature name used for this split from the list of names\n",
    "        feature_names = feature_names[:]\n",
    "        feature_names.remove(best_feature_name)\n",
    "        \n",
    "        # split the data according to the best split\n",
    "        splits = split_dataset(X, y, best_feature_idx, value, sample_weights)\n",
    "        \n",
    "        # create the tree for this specific split\n",
    "        mytree = {'node':'split', 'feature_name':best_feature_name, 'value':value}\n",
    "        \n",
    "        # obtain the information for the two regions of the split\n",
    "        sub_X_left, sub_Y_left, sub_sample_weight_left = splits[0]\n",
    "        sub_X_right, sub_Y_right, sub_sample_weight_right = splits[1]\n",
    "        \n",
    "        # expand the tree by recursively calling the same function to making further splits for each new region\n",
    "        mytree['Left'] = build_tree(sub_X_left, sub_Y_left, feature_names, max_features, max_depth, current_depth+1, sub_sample_weight_left) \n",
    "        mytree['Right'] = build_tree(sub_X_right, sub_Y_right, feature_names, max_features, max_depth, current_depth+1, sub_sample_weight_right) \n",
    "          \n",
    "        return mytree"
   ]
  },
  {
   "cell_type": "markdown",
   "id": "timely-meeting",
   "metadata": {},
   "source": [
    "We also have a overall function to train the tree with the hyperparameters as arguments:"
   ]
  },
  {
   "cell_type": "code",
   "execution_count": 100,
   "id": "criminal-region",
   "metadata": {},
   "outputs": [],
   "source": [
    "def train_decision_tree(X, y, max_features, max_depth, sample_weights=None):\n",
    "    \"\"\"\n",
    "    Build the decision tree according to the training data.\n",
    "    \"\"\"\n",
    "    if sample_weights is None:\n",
    "        # if the sample weights is not provided, we assume the samples have uniform weights\n",
    "        sample_weights = np.ones(X.shape[0]) / X.shape[0]\n",
    "    else:\n",
    "        sample_weights = np.array(sample_weights) / np.sum(sample_weights)\n",
    "    \n",
    "    feature_names = X.columns.tolist()\n",
    "    X = np.array(X)\n",
    "    y = np.array(y)\n",
    "    tree = build_tree(X, y, feature_names, max_features, max_depth, current_depth=1, sample_weights=sample_weights)\n",
    "    return tree"
   ]
  },
  {
   "cell_type": "markdown",
   "id": "responsible-industry",
   "metadata": {},
   "source": [
    "Then we have two further functions: \"classify\" to classify a data point given a tree and the point, and \"predict\" to call this function for for every data point from a set."
   ]
  },
  {
   "cell_type": "code",
   "execution_count": 101,
   "id": "proper-eleven",
   "metadata": {},
   "outputs": [],
   "source": [
    "def classify(tree, x):\n",
    "    \"\"\"\n",
    "    Classify a single sample with the fitted decision tree.\n",
    "    Args:\n",
    "        x: ((pd.Dataframe) a single sample features, of shape (D,).\n",
    "    Returns:\n",
    "        (int): predicted testing sample label.\n",
    "    \"\"\"\n",
    "    # check if there is no further split\n",
    "    if tree['node'] == 'leaf':\n",
    "        return tree['label']\n",
    "        # if there is a further split, check which region the data point belongs to\n",
    "    else:\n",
    "        feat_name = tree['feature_name']\n",
    "        val = x.loc[feat_name]\n",
    "        # go the the appropriate region and recursively call the classify function\n",
    "        if (val <= tree['value']):\n",
    "            return classify(tree['Left'],x)\n",
    "        else:\n",
    "            return classify(tree['Right'],x)\n",
    "\n",
    "def predict(tree, X):\n",
    "    \"\"\"\n",
    "    Predict classification results for X.\n",
    "    Args:\n",
    "        X: (pd.Dataframe) testing sample features, of shape (N, D).\n",
    "    Returns:\n",
    "        (np.array): predicted testing sample labels, of shape (N,).\n",
    "    \"\"\"\n",
    "    if len(X.shape)==1:\n",
    "        return classify(tree, X)\n",
    "    else:\n",
    "        results=[]\n",
    "        for i in range(X.shape[0]):\n",
    "            results.append(classify(tree, X.iloc[i, :]))\n",
    "        return np.array(results)"
   ]
  },
  {
   "cell_type": "markdown",
   "id": "approved-senior",
   "metadata": {},
   "source": [
    "We also create a score function to measure the accuracy of our predictions:"
   ]
  },
  {
   "cell_type": "code",
   "execution_count": 103,
   "id": "imposed-newfoundland",
   "metadata": {},
   "outputs": [],
   "source": [
    "def score(tree, X_test, y_test):\n",
    "    y_pred = predict(tree, X_test)\n",
    "    return np.float(sum(y_pred==y_test)) / float(len(y_test))"
   ]
  },
  {
   "cell_type": "markdown",
   "id": "developmental-competition",
   "metadata": {},
   "source": [
    "Now that we have our code to create decision trees and get predictions using them, we move on to random forests.\n",
    "The first step of random forests is bootstrapping. That is, producing samples of size $N'$ from the training data (where $N' < N$ and $N$ is the size of the training data). These samples are with replacement.\n",
    "\n",
    "The following function performs bootstrapping and has N_trees as the argument for the number of samples. The bootstrapped sets are stored in dictionaries."
   ]
  },
  {
   "cell_type": "code",
   "execution_count": 104,
   "id": "fourth-merit",
   "metadata": {},
   "outputs": [],
   "source": [
    "# Create a bootstrapped dataset given a data frame\n",
    "def bootstrap(df_data, N_trees):\n",
    "    # dictionary to store each sample\n",
    "    boot_data = dict()\n",
    "    \n",
    "    # random sampling with replacement\n",
    "    for i in range(N_trees):\n",
    "        boot_data[i] = df_data.sample(n = int(len(X_train) * 9/10), replace = True)\n",
    "        \n",
    "    return boot_data"
   ]
  },
  {
   "cell_type": "markdown",
   "id": "blind-knight",
   "metadata": {},
   "source": [
    "The next step of random forests is to get an ensemble of decision trees, one for each sample of the bootsrapped dataset. This is done in the function below, and the trees are stored and returned in a dictionary \"boot_tree\":"
   ]
  },
  {
   "cell_type": "code",
   "execution_count": 105,
   "id": "expensive-violence",
   "metadata": {},
   "outputs": [],
   "source": [
    "def randforest(df_X_y, N_trees, max_features, max_depth, sample_weights=None):\n",
    "    \n",
    "    # bootstrap the data and create samples\n",
    "    boot_data = bootstrap(df_X_y, N_trees)\n",
    "        \n",
    "    # create a dictionary to store each tree\n",
    "    boot_tree = {}\n",
    "    \n",
    "    # for each sample of the data create a decision tree\n",
    "    for i in range(N_trees):\n",
    "        # split the aggregated X and y into separate arrays again\n",
    "        boot_df_X_y = boot_data[i]\n",
    "        boot_df_X = boot_df_X_y[boot_df_X_y.columns[:-1]]\n",
    "        boot_df_y = boot_df_X_y[boot_df_X_y.columns[-1]]\n",
    "\n",
    "        boot_tree[i] = train_decision_tree(boot_df_X, boot_df_y, max_features, max_depth)\n",
    "    \n",
    "    return boot_tree"
   ]
  },
  {
   "cell_type": "markdown",
   "id": "floppy-beverage",
   "metadata": {},
   "source": [
    "The next step is to aggregate the ensemble of models to create a single prediction for each data point.\n",
    "Here we implement this for a single data point in the function \"classify_random_forest\" by hard voting which takes the majority of the class labels.\n",
    "\n",
    "The \"predict_random_forest\" function repeats this for each data point in a given set using a given ensemble of trees, and a vector of predicted values is returned:"
   ]
  },
  {
   "cell_type": "code",
   "execution_count": 109,
   "id": "intensive-smoke",
   "metadata": {},
   "outputs": [],
   "source": [
    "def classify_random_forest(boot_tree, x):\n",
    "    \"\"\"\n",
    "    Classify a single sample with the fitted decision tree.\n",
    "    Returns:\n",
    "        (int): predicted testing sample label.\n",
    "    \"\"\"\n",
    "    # create a list of values predicted by the tree\n",
    "    tree_preds = []\n",
    "    \n",
    "    for i in range(len(boot_tree)):\n",
    "        tree_preds.append(classify(boot_tree[i], x))\n",
    "    \n",
    "    # find frequency of each value\n",
    "    freq_counter = Counter(tree_preds)\n",
    "    freq_dict = dict(freq_counter)\n",
    "    \n",
    "    max_freq = max(list(freq_counter.values()))\n",
    "    modal_values = [num for num, freq in freq_dict.items() if freq == max_freq]\n",
    "    # in case there are multiple modal values, randomly choose from the list\n",
    "    label = modal_values[np.random.randint(0, len(modal_values))]\n",
    "    \n",
    "    return label\n",
    "\n",
    "def predict_random_forest(boot_tree, X):\n",
    "    \"\"\"\n",
    "    Predict classification results for X.\n",
    "    \"\"\"\n",
    "    if len(X.shape)==1:\n",
    "        return classify_random_forest(boot_tree, X)\n",
    "    else:\n",
    "        results=[]\n",
    "        for i in range(X.shape[0]):\n",
    "            results.append(classify_random_forest(boot_tree, X.iloc[i, :]))\n",
    "        return np.array(results)"
   ]
  },
  {
   "cell_type": "markdown",
   "id": "cultural-christianity",
   "metadata": {},
   "source": [
    "As with the decision tree, we have a score function to measure the accuracy of our predictions for a particular random forest."
   ]
  },
  {
   "cell_type": "code",
   "execution_count": 110,
   "id": "industrial-emerald",
   "metadata": {},
   "outputs": [],
   "source": [
    "def score_random_forest(boot_tree, X_test, y_test):\n",
    "    y_pred = predict_random_forest(boot_tree, X_test)\n",
    "    return np.float(sum(y_pred==y_test)) / float(len(y_test))"
   ]
  },
  {
   "cell_type": "markdown",
   "id": "basic-copper",
   "metadata": {},
   "source": [
    "In order to perform cross validation, we create a function that has the folds and the three hyperparameters we are interest in (N_trees, max_features, max_depth) as arguments and returns the training and validation accuracies for each fold:"
   ]
  },
  {
   "cell_type": "code",
   "execution_count": 111,
   "id": "blessed-theater",
   "metadata": {},
   "outputs": [],
   "source": [
    "def cross_val_evaluate_random_forest(folds, N_trees, max_features, max_depth):\n",
    "    # create dictionaries\n",
    "    train_acc = {1:[], 2:[], 3:[], 4:[], 5:[]}\n",
    "    val_acc = {1:[], 2:[], 3:[], 4:[], 5:[]}\n",
    "    \n",
    "    for i in range(len(folds)):\n",
    "        \n",
    "        # print('Fold', i+1)\n",
    "        # define the training set (i.e. selecting all folds and deleting the one used for validation)\n",
    "        train_set = np.delete(np.asarray(folds).reshape(len(folds), folds[0].shape[0], folds[0].shape[1]), i, axis=0)\n",
    "        train_folds = train_set.reshape(len(train_set)*train_set[0].shape[0], train_set[0].shape[1])\n",
    "        X_train = train_folds[:,:-1]\n",
    "        y_train = train_folds[:, -1]\n",
    "        \n",
    "        # define the validation set\n",
    "        val_fold = folds[i]\n",
    "        X_val = val_fold[:,:-1]\n",
    "        y_val = val_fold[:, -1]\n",
    "    \n",
    "        # convert whole training set, X_train and X_val into panda data frames as required\n",
    "        df_train = pd.DataFrame(train_folds)\n",
    "        df_X_train = pd.DataFrame(X_train)\n",
    "        df_X_val = pd.DataFrame(X_val)\n",
    "        \n",
    "        # train the random forest and obtain the trees\n",
    "        boot_tree = randforest(df_train, N_trees, max_features, max_depth, sample_weights=None)\n",
    "        \n",
    "        # obtain the accuracies and store in the appropriate dictionaries\n",
    "        train_accuracy = score_random_forest(boot_tree, df_X_train, y_train)\n",
    "        val_accuracy = score_random_forest(boot_tree, df_X_val, y_val)\n",
    "        \n",
    "        train_acc[i+1].append(train_accuracy)\n",
    "        val_acc[i+1].append(val_accuracy)\n",
    "        \n",
    "    return train_acc, val_acc"
   ]
  },
  {
   "cell_type": "markdown",
   "id": "listed-poultry",
   "metadata": {},
   "source": [
    "In order to scan the parameters we create vector of possible values for each hyperparameter:"
   ]
  },
  {
   "cell_type": "code",
   "execution_count": 117,
   "id": "formed-biotechnology",
   "metadata": {},
   "outputs": [],
   "source": [
    "# Vectors of hyperparameters\n",
    "N_trees_vec = np.array([4, 8, 12, 16, 20])\n",
    "max_features_vec = np.array([2, 4, 6, 8, 10])\n",
    "max_depth_vec = np.array([2, 4, 6, 8, 10])"
   ]
  },
  {
   "cell_type": "markdown",
   "id": "union-walter",
   "metadata": {},
   "source": [
    "I chose to restrict the number of values I scan though as this process proved to be very computationally expensive for large vectors, in some cases taking up to an hour for vectors of 10 values.\n",
    "\n",
    "Further I restricted the range of the parameter for the maximum number of descriptors at each split (max_features) to between 2 and 10 as it was stated that in lectures that the guideline or this number is approximately $\\frac{p}{3}$ (where $p$ is the number f predictors), and here we have that p = 11.\n",
    "\n",
    "Similarly I chose to restrict the maximum depth (max_depth) of the trees as there are only 11 descriptors in total, and overfitting could occur if the depth is too large."
   ]
  },
  {
   "cell_type": "markdown",
   "id": "abandoned-cedar",
   "metadata": {},
   "source": [
    "Further, a grid search over every combination of the hyperparameters proved to be unnecessarily computationally expensive.\n",
    "So I decided to fix the number of decision trees and perform a grid search over max_features and max_depth first:\n",
    "\n",
    "[Note this can take around 10 minutes]"
   ]
  },
  {
   "cell_type": "code",
   "execution_count": 115,
   "id": "valid-street",
   "metadata": {},
   "outputs": [
    {
     "name": "stdout",
     "output_type": "stream",
     "text": [
      "Outer Loop: 1/5\n",
      "Outer Loop: 2/5\n",
      "Outer Loop: 3/5\n",
      "Outer Loop: 4/5\n",
      "Outer Loop: 5/5\n"
     ]
    }
   ],
   "source": [
    "# Create matrices to store accuracies\n",
    "train_acc_matrix = np.zeros((5,5))\n",
    "val_acc_matrix = np.zeros((5,5))\n",
    "\n",
    "# Grid Search over max_features and max_depth keeping N_trees fixed at 5\n",
    "for j, max_feat in enumerate(max_features_vec):\n",
    "    print(\"Outer Loop: \" + str(j+1)+ \"/5\")\n",
    "    for k, max_depth in enumerate(max_depth_vec):\n",
    "        train_accuracy, val_accuracy = cross_val_evaluate_random_forest(folds, 5, max_feat, max_depth)\n",
    "        mean_train_accuracy = np.mean([train_accuracy[i][0] for i in range(1,6)])\n",
    "        mean_val_accuracy = np.mean([val_accuracy[i][0] for i in range(1,6)])\n",
    "        \n",
    "        train_acc_matrix[j,k] = mean_train_accuracy\n",
    "        val_acc_matrix[j,k] = mean_val_accuracy"
   ]
  },
  {
   "cell_type": "markdown",
   "id": "contemporary-fight",
   "metadata": {},
   "source": [
    "From this we can find the optimal pair of these hyperparamaters:"
   ]
  },
  {
   "cell_type": "code",
   "execution_count": 116,
   "id": "searching-beijing",
   "metadata": {},
   "outputs": [],
   "source": [
    "optimal_indices = np.where(val_acc_matrix == val_acc_matrix.max())\n",
    "optimal_max_features = max_features_vec[optimal_indices[0][0]]\n",
    "optimal_max_depth = max_depth_vec[optimal_indices[1][0]]"
   ]
  },
  {
   "cell_type": "markdown",
   "id": "missing-springfield",
   "metadata": {},
   "source": [
    "Next, using these optimal values, I varied the number of trees using the N_trees vector to find the optimal number of decision trees:\n",
    "\n",
    "[Note this can take a couple of minutes]"
   ]
  },
  {
   "cell_type": "code",
   "execution_count": 118,
   "id": "specified-works",
   "metadata": {},
   "outputs": [
    {
     "name": "stdout",
     "output_type": "stream",
     "text": [
      "Loop: 1/5\n",
      "Loop: 2/5\n",
      "Loop: 3/5\n",
      "Loop: 4/5\n",
      "Loop: 5/5\n"
     ]
    }
   ],
   "source": [
    "# Create matrices to store accuracies\n",
    "train_acc_matrix = np.zeros(5)\n",
    "val_acc_matrix = np.zeros(5)\n",
    "\n",
    "for i, N_trees, in enumerate(N_trees_vec):\n",
    "    print(\"Loop: \" + str(i+1)+ \"/5\")\n",
    "    train_accuracy, val_accuracy = cross_val_evaluate_random_forest(folds, N_trees, optimal_max_features, optimal_max_depth)\n",
    "    mean_train_accuracy = np.mean([train_accuracy[k][0] for k in range(1,6)])\n",
    "    mean_val_accuracy = np.mean([val_accuracy[k][0] for k in range(1,6)])\n",
    "    \n",
    "    train_acc_matrix[i] = mean_train_accuracy\n",
    "    val_acc_matrix[i] = mean_val_accuracy\n",
    "    \n",
    "optimal_index = np.where(val_acc_matrix == val_acc_matrix.max())\n",
    "optimal_N_trees = N_trees_vec[optimal_index[0][0]]"
   ]
  },
  {
   "cell_type": "markdown",
   "id": "protected-reach",
   "metadata": {},
   "source": [
    "These optimal hyperparameters are summarised below:\n",
    "\n",
    "[In case the code takes a long time to execute, for reference the optimal parameters for this seed were: (16, 6, 2)]"
   ]
  },
  {
   "cell_type": "code",
   "execution_count": 119,
   "id": "focused-drama",
   "metadata": {},
   "outputs": [
    {
     "data": {
      "text/html": [
       "<div>\n",
       "<style scoped>\n",
       "    .dataframe tbody tr th:only-of-type {\n",
       "        vertical-align: middle;\n",
       "    }\n",
       "\n",
       "    .dataframe tbody tr th {\n",
       "        vertical-align: top;\n",
       "    }\n",
       "\n",
       "    .dataframe thead th {\n",
       "        text-align: right;\n",
       "    }\n",
       "</style>\n",
       "<table border=\"1\" class=\"dataframe\">\n",
       "  <thead>\n",
       "    <tr style=\"text-align: right;\">\n",
       "      <th></th>\n",
       "      <th>Number of Decision Trees</th>\n",
       "      <th>Depth of Trees</th>\n",
       "      <th>Maximum Number of Descriptors</th>\n",
       "    </tr>\n",
       "  </thead>\n",
       "  <tbody>\n",
       "    <tr>\n",
       "      <th>Optimal Value</th>\n",
       "      <td>16</td>\n",
       "      <td>6</td>\n",
       "      <td>2</td>\n",
       "    </tr>\n",
       "  </tbody>\n",
       "</table>\n",
       "</div>"
      ],
      "text/plain": [
       "               Number of Decision Trees  Depth of Trees  \\\n",
       "Optimal Value                        16               6   \n",
       "\n",
       "               Maximum Number of Descriptors  \n",
       "Optimal Value                              2  "
      ]
     },
     "execution_count": 119,
     "metadata": {},
     "output_type": "execute_result"
    }
   ],
   "source": [
    "rand_forest_hyper = np.array([[optimal_N_trees], [optimal_max_depth], [optimal_max_features]])\n",
    "rand_forest_hyper_df = pd.DataFrame(rand_forest_hyper.T, \n",
    "                                    columns = [\"Number of Decision Trees\", \n",
    "                                               \"Depth of Trees\", \n",
    "                                               \"Maximum Number of Descriptors\"], \n",
    "                                    index = [\"Optimal Value\"])\n",
    "rand_forest_hyper_df"
   ]
  },
  {
   "cell_type": "markdown",
   "id": "encouraging-potato",
   "metadata": {},
   "source": [
    "#### Question 2.2.2\n",
    "***"
   ]
  },
  {
   "cell_type": "markdown",
   "id": "welsh-discount",
   "metadata": {},
   "source": [
    "Finally we train the random forest model using the set of optimal hyperparameters and compute the accuracies:"
   ]
  },
  {
   "cell_type": "code",
   "execution_count": 121,
   "id": "isolated-acquisition",
   "metadata": {},
   "outputs": [
    {
     "name": "stdout",
     "output_type": "stream",
     "text": [
      "Random Forest - In-Sample accuracy     : 0.76875\n",
      "Random Forest - Out-of-Sample accuracy : 0.7\n"
     ]
    }
   ],
   "source": [
    "boot_tree = randforest(train_data, optimal_N_trees, optimal_max_features, optimal_max_depth, sample_weights=None)\n",
    "print('Random Forest - In-Sample accuracy     :', score_random_forest(boot_tree, df_X_train, df_Y_train))\n",
    "print('Random Forest - Out-of-Sample accuracy :', score_random_forest(boot_tree, df_X_test, df_Y_test))"
   ]
  },
  {
   "cell_type": "markdown",
   "id": "sought-yeast",
   "metadata": {},
   "source": [
    "Next using the predictions, we create a confusion matrix to see better visualise the accuracy of our predictions:\n",
    "\n",
    "[ Note the code used for constructing the confusion matrix is adapted from: https://datatofish.com/confusion-matrix-python/ ]"
   ]
  },
  {
   "cell_type": "code",
   "execution_count": 122,
   "id": "preliminary-african",
   "metadata": {},
   "outputs": [
    {
     "data": {
      "image/png": "[encoded data removed]",
      "text/plain": [
       "<Figure size 432x288 with 2 Axes>"
      ]
     },
     "metadata": {
      "needs_background": "light"
     },
     "output_type": "display_data"
    },
    {
     "data": {
      "image/png": "[encoded data removed]",
      "text/plain": [
       "<Figure size 432x288 with 2 Axes>"
      ]
     },
     "metadata": {
      "needs_background": "light"
     },
     "output_type": "display_data"
    }
   ],
   "source": [
    "# obtain the predictions\n",
    "Y_train_preds = predict_random_forest(boot_tree, df_X_train)\n",
    "Y_test_preds = predict_random_forest(boot_tree, df_X_test)\n",
    "\n",
    "# construct the confusion matrices\n",
    "df_data_train = pd.DataFrame({'y_Actual [Train]': Y_train, 'y_Predicted [Train]': Y_train_preds})\n",
    "df_data_test = pd.DataFrame({'y_Actual [Test]': Y_test, 'y_Predicted [Test]': Y_test_preds})\n",
    "\n",
    "confusion_matrix_train = pd.crosstab(df_data_train['y_Actual [Train]'], df_data_train['y_Predicted [Train]'], \n",
    "                                     rownames=['Actual'], colnames=['Predicted'])\n",
    "confusion_matrix_test = pd.crosstab(df_data_test['y_Actual [Test]'], df_data_test['y_Predicted [Test]'], \n",
    "                                    rownames=['Actual'], colnames=['Predicted'])\n",
    "\n",
    "# plot the matrices\n",
    "ax = sns.heatmap(confusion_matrix_train, annot=True, fmt='g')\n",
    "plt.title(\"Confusion Matrix for Training Data\")\n",
    "plt.show()\n",
    "\n",
    "sns.heatmap(confusion_matrix_test, annot=True, fmt='g')\n",
    "plt.title(\"Confusion Matrix for Test Data\")\n",
    "plt.show()"
   ]
  },
  {
   "cell_type": "markdown",
   "id": "initial-scanner",
   "metadata": {},
   "source": [
    "We can note that for both datasets, that for data points where the actual value is 1, the model correctly predicts this label for the vast majority (for example 132 / 137 times for the test data). Thus the model seems to have a high true postive rate.\n",
    "\n",
    "However for points where the actual value is 0, the model incorrectly predicts the label 1 more often than not.\n",
    "This is suggests that the true negative rate is not very good (8 / 63 for the test data).\n",
    "\n",
    "The fact that the accuracies shown above are fairly consistent in and out-of-sample suggests that overfitting might not be occuring. However we do see that in these data sets the model is far more likely to predict the label 1 than 0 (which is representative of the datasets), but we cannot be sure that the model will still be appropriate if we get a completely new dataset with a different distribution of 1s and 0s.\n",
    "\n",
    "So we see that the random forest model performs classification to a fairly high degree of accuracy, but improvements can still be made by further tuning the hyperparameters more precisely, however these will always come with the added cost of computational time."
   ]
  },
  {
   "cell_type": "code",
   "execution_count": null,
   "id": "compliant-capital",
   "metadata": {},
   "outputs": [],
   "source": []
  }
 ],
 "metadata": {
  "kernelspec": {
   "display_name": "Python 3",
   "language": "python",
   "name": "python3"
  },
  "language_info": {
   "codemirror_mode": {
    "name": "ipython",
    "version": 3
   },
   "file_extension": ".py",
   "mimetype": "text/x-python",
   "name": "python",
   "nbconvert_exporter": "python",
   "pygments_lexer": "ipython3",
   "version": "3.8.3"
  }
 },
 "nbformat": 4,
 "nbformat_minor": 5
}
