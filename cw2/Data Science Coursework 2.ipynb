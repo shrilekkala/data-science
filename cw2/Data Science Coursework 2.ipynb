{
 "cells": [
  {
   "cell_type": "markdown",
   "id": "cardiovascular-alexander",
   "metadata": {},
   "source": [
    "# Data Science: Coursework 2\n",
    "\n",
    "### Shri Lekkala\n",
    "### CID: 01499487"
   ]
  },
  {
   "cell_type": "markdown",
   "id": "resident-rouge",
   "metadata": {},
   "source": [
    "### Table of Contents\n",
    "\n",
    "* [Task 1](#t1) \n",
    "    * [Question 1.1](#q1_1)\n",
    "        * [Part 1.1.1](#1_1_1)\n",
    "        * [Part 1.1.2](#1_1_2)\n",
    "        * [Part 1.1.3](#1_1_3)\n",
    "    * [Question 1.2](#q1_2)\n",
    "        * [Part 1.2.1](#1_2_1)\n",
    "        * [Part 1.2.2](#1_2_2)\n",
    "        * [Part 1.2.3](#1_2_3)\n",
    "        * [Part 1.2.4](#1_2_4)\n",
    "* [Task 2](#t2)\n",
    "    * [Question 2.1](#q2_1)\n",
    "        * [Part 2.1.1](#2_1_1)\n",
    "        * [Part 2.1.2](#2_1_2)\n",
    "        * [Part 2.1.3](#2_1_3)\n",
    "    * [Question 2.2](#q2_2)\n",
    "        * [Part 2.2.1](#2_2_1)\n",
    "        * [Part 2.2.2](#2_2_2)\n",
    "    * [Question 2.3](#q2_3)\n",
    "        * [Part 2.3.1](#2_3_1)\n",
    "        * [Part 2.3.2](#2_3_2)\n",
    "        * [Part 2.3.3](#2_3_3)"
   ]
  },
  {
   "cell_type": "code",
   "execution_count": 4,
   "id": "initial-conversation",
   "metadata": {},
   "outputs": [],
   "source": [
    "# Import modules used throughout the coursework\n",
    "import numpy as np\n",
    "import matplotlib.pyplot as plt\n",
    "import tensorflow as tf\n",
    "import pandas as pd\n",
    "import seaborn as sns\n",
    "\n",
    "# Set a random seed to fix the results\n",
    "np.random.seed(1024)"
   ]
  },
  {
   "cell_type": "markdown",
   "id": "adaptive-paris",
   "metadata": {},
   "source": [
    "## Task 1: Neural Networks <a class=\"anchor\" id=\"t1\"></a>\n",
    "***"
   ]
  },
  {
   "cell_type": "markdown",
   "id": "technical-thong",
   "metadata": {},
   "source": [
    "### 1.1 Multi-Layer Perceptron <a class=\"anchor\" id=\"q1_1\"></a>\n",
    "***\n",
    "\n",
    "#### Question 1.1.1 <a class=\"anchor\" id=\"1_1_1\"></a>\n",
    "***"
   ]
  },
  {
   "cell_type": "markdown",
   "id": "individual-prompt",
   "metadata": {},
   "source": [
    "First we load the dataset:"
   ]
  },
  {
   "cell_type": "code",
   "execution_count": 7,
   "id": "infectious-boards",
   "metadata": {},
   "outputs": [],
   "source": [
    "def load_data ():\n",
    "    (x_train, y_train), (x_val, y_val) = tf.keras.datasets.cifar10.load_data()\n",
    "    x_train = x_train.astype('float32') / 255\n",
    "    x_val = x_val.astype('float32') / 255\n",
    "    \n",
    "    # convert labels to categorical samples\n",
    "    y_train = tf.keras.utils.to_categorical(y_train, num_classes=10)\n",
    "    y_val = tf.keras.utils.to_categorical(y_val, num_classes=10)\n",
    "    return ((x_train, y_train), (x_val, y_val))\n",
    "\n",
    "(x_train, y_train), (x_val, y_val) = load_data()"
   ]
  },
  {
   "cell_type": "code",
   "execution_count": 10,
   "id": "above-client",
   "metadata": {},
   "outputs": [
    {
     "name": "stdout",
     "output_type": "stream",
     "text": [
      "(50000, 32, 32, 3)\n",
      "(50000, 10)\n",
      "(10000, 32, 32, 3)\n",
      "(10000, 10)\n"
     ]
    }
   ],
   "source": [
    "print(x_train.shape)\n",
    "print(y_train.shape)\n",
    "print(x_val.shape)\n",
    "print(y_val.shape)"
   ]
  },
  {
   "cell_type": "markdown",
   "id": "productive-romantic",
   "metadata": {},
   "source": [
    "#### Question 1.1.2 <a class=\"anchor\" id=\"1_1_2\"></a>\n",
    "***"
   ]
  },
  {
   "cell_type": "markdown",
   "id": "affecting-teens",
   "metadata": {},
   "source": [
    "#### Question 1.1.3 <a class=\"anchor\" id=\"1_1_3\"></a>\n",
    "***"
   ]
  },
  {
   "cell_type": "markdown",
   "id": "conservative-aruba",
   "metadata": {},
   "source": [
    "### 1.2 Convolutional Neural Network (CNN) <a class=\"anchor\" id=\"q1_2\"></a>\n",
    "***\n",
    "\n",
    "#### Question 1.2.1 <a class=\"anchor\" id=\"1_2_1\"></a>\n",
    "***"
   ]
  },
  {
   "cell_type": "markdown",
   "id": "underlying-folks",
   "metadata": {},
   "source": [
    "#### Question 1.2.2 <a class=\"anchor\" id=\"1_2_2\"></a>\n",
    "***"
   ]
  },
  {
   "cell_type": "markdown",
   "id": "loved-statistics",
   "metadata": {},
   "source": [
    "#### Question 1.2.3 <a class=\"anchor\" id=\"1_2_3\"></a>\n",
    "***"
   ]
  },
  {
   "cell_type": "markdown",
   "id": "retired-label",
   "metadata": {},
   "source": [
    "#### Question 1.2.4 <a class=\"anchor\" id=\"1_2_4\"></a>\n",
    "***"
   ]
  },
  {
   "cell_type": "markdown",
   "id": "interior-procedure",
   "metadata": {},
   "source": [
    "## Task 2: Unsupervised Learning <a class=\"anchor\" id=\"t2\"></a>\n",
    "***"
   ]
  },
  {
   "cell_type": "markdown",
   "id": "simplified-teach",
   "metadata": {},
   "source": [
    "### 2.1 Clustering of the Feature Matrix <a class=\"anchor\" id=\"q2_1\"></a>\n",
    "***\n",
    "\n",
    "#### Question 2.1.1 <a class=\"anchor\" id=\"2_1_1\"></a>\n",
    "***"
   ]
  },
  {
   "cell_type": "markdown",
   "id": "iraqi-thailand",
   "metadata": {},
   "source": [
    "#### Question 2.1.2 <a class=\"anchor\" id=\"2_1_2\"></a>\n",
    "***"
   ]
  },
  {
   "cell_type": "markdown",
   "id": "international-advertiser",
   "metadata": {},
   "source": [
    "#### Question 2.1.3 <a class=\"anchor\" id=\"2_1_3\"></a>\n",
    "***"
   ]
  },
  {
   "cell_type": "markdown",
   "id": "outer-recognition",
   "metadata": {},
   "source": [
    "### 2.2 Dimensionality Reduction of the Feature Matrix <a class=\"anchor\" id=\"q2_2\"></a>\n",
    "***\n",
    "\n",
    "#### Question 2.2.1 <a class=\"anchor\" id=\"2_2_1\"></a>\n",
    "***"
   ]
  },
  {
   "cell_type": "markdown",
   "id": "racial-hughes",
   "metadata": {},
   "source": [
    "#### Question 2.2.2 <a class=\"anchor\" id=\"2_2_2\"></a>\n",
    "***"
   ]
  },
  {
   "cell_type": "markdown",
   "id": "premium-literacy",
   "metadata": {},
   "source": [
    "### 2.3 Graph-Based Analysis <a class=\"anchor\" id=\"q2_3\"></a>\n",
    "***\n",
    "\n",
    "#### Question 2.3.1 <a class=\"anchor\" id=\"2_3_1\"></a>\n",
    "***"
   ]
  },
  {
   "cell_type": "markdown",
   "id": "hungry-today",
   "metadata": {},
   "source": [
    "#### Question 2.3.2 <a class=\"anchor\" id=\"2_3_2\"></a>\n",
    "***"
   ]
  },
  {
   "cell_type": "markdown",
   "id": "criminal-wrist",
   "metadata": {},
   "source": [
    "#### Question 2.3.3 <a class=\"anchor\" id=\"2_3_3\"></a>\n",
    "***"
   ]
  },
  {
   "cell_type": "markdown",
   "id": "suitable-implementation",
   "metadata": {},
   "source": [
    "## End of Coursework"
   ]
  }
 ],
 "metadata": {
  "kernelspec": {
   "display_name": "tf2",
   "language": "python",
   "name": "tf2"
  },
  "language_info": {
   "codemirror_mode": {
    "name": "ipython",
    "version": 3
   },
   "file_extension": ".py",
   "mimetype": "text/x-python",
   "name": "python",
   "nbconvert_exporter": "python",
   "pygments_lexer": "ipython3",
   "version": "3.7.10"
  }
 },
 "nbformat": 4,
 "nbformat_minor": 5
}
